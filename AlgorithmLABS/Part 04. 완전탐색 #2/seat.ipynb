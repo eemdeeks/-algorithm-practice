{
 "cells": [
  {
   "cell_type": "markdown",
   "id": "81df092c",
   "metadata": {},
   "source": [
    "22.08.17 아직 못품.."
   ]
  },
  {
   "cell_type": "code",
   "execution_count": null,
   "id": "40fcddc0",
   "metadata": {},
   "outputs": [],
   "source": [
    "r,c= map(int,input().split())\n",
    "n = int(input())\n",
    "ls = []\n",
    "minRow = 0\n",
    "minCal = 0\n",
    "Row = r - 1\n",
    "Cal = c - 1\n",
    "row = 0\n",
    "col = 0\n",
    "for i in range(r):\n",
    "  ls.append([])\n",
    "  for j in range(c):\n",
    "    ls[i].append(0)\n",
    "for i in range(1,r*c+1):\n",
    "  if minRow == row:\n",
    "    if cal == Cal:\n",
    "      ls[row][cal] = i      \n",
    "      minRow += 1\n",
    "      row += 1\n",
    "      continue\n",
    "    ls[row][cal] = i\n",
    "    cal+=1\n",
    "  elif cal == Cal:\n",
    "    if row == Row:\n",
    "      Cal -= 1\n",
    "      continue\n",
    "    row += 1\n",
    "  elif row == Row:\n",
    "    if cal == minCal:\n",
    "      Row -= 1\n",
    "      continue\n",
    "    cal -= 1\n",
    "  elif cal == minCal:\n",
    "    if minRow == row:\n",
    "      minCal +=1\n",
    "    row -= 1\n",
    "  \n",
    "  "
   ]
  },
  {
   "cell_type": "code",
   "execution_count": null,
   "id": "900b21f5",
   "metadata": {},
   "outputs": [],
   "source": []
  }
 ],
 "metadata": {
  "kernelspec": {
   "display_name": "Python 3 (ipykernel)",
   "language": "python",
   "name": "python3"
  },
  "language_info": {
   "codemirror_mode": {
    "name": "ipython",
    "version": 3
   },
   "file_extension": ".py",
   "mimetype": "text/x-python",
   "name": "python",
   "nbconvert_exporter": "python",
   "pygments_lexer": "ipython3",
   "version": "3.8.9"
  }
 },
 "nbformat": 4,
 "nbformat_minor": 5
}
