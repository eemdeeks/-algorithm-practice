{
 "cells": [
  {
   "cell_type": "code",
   "execution_count": 1,
   "id": "3614fc58",
   "metadata": {},
   "outputs": [
    {
     "name": "stdout",
     "output_type": "stream",
     "text": [
      "6 7\n",
      "0 0 0 0 0 0\n",
      "0 0 0 0 0 0\n",
      "1 1 1 0 0 1\n",
      "1 1 1 0 0 1\n",
      "1 1 1 0 1 1\n",
      "1 1 1 0 1 1\n",
      "1 1 1 0 1 1\n",
      "4 3\n"
     ]
    }
   ],
   "source": [
    "col, row = map(int,input().split())\n",
    "ls = []\n",
    "x = 0\n",
    "y = 0\n",
    "\n",
    "for i in range(row):\n",
    "  ls.append(list(map(int,input().split())))\n",
    "\n",
    "for i in range(col):\n",
    "  if row < 4:\n",
    "    break\n",
    "  for j in range(row):\n",
    "    if ls[j][i] == 1:\n",
    "      if j < 4:\n",
    "        break\n",
    "      else:\n",
    "        ad = 0\n",
    "        for k in range(4):\n",
    "          ls[j-k-1][i] = 1\n",
    "        for k in ls:\n",
    "          if sum(k) == col:\n",
    "            ad+= 1\n",
    "        if y < ad:\n",
    "          x = i+1\n",
    "          y = ad\n",
    "        for k in range(4):\n",
    "          ls[j-k-1][i] = 0\n",
    "      break\n",
    "    elif j == row - 1:\n",
    "      ad = 0\n",
    "      for k in range(4):\n",
    "          ls[j-k][i] = 1\n",
    "      for k in ls:\n",
    "        if sum(k) == col:\n",
    "          ad+= 1\n",
    "      if y < ad:\n",
    "        x = i+1\n",
    "        y = ad\n",
    "      for k in range(4):\n",
    "        ls[j-k][i] = 0\n",
    "print(x,y)"
   ]
  },
  {
   "cell_type": "code",
   "execution_count": null,
   "id": "d5b64ee3",
   "metadata": {},
   "outputs": [],
   "source": []
  }
 ],
 "metadata": {
  "kernelspec": {
   "display_name": "Python 3 (ipykernel)",
   "language": "python",
   "name": "python3"
  },
  "language_info": {
   "codemirror_mode": {
    "name": "ipython",
    "version": 3
   },
   "file_extension": ".py",
   "mimetype": "text/x-python",
   "name": "python",
   "nbconvert_exporter": "python",
   "pygments_lexer": "ipython3",
   "version": "3.8.9"
  }
 },
 "nbformat": 4,
 "nbformat_minor": 5
}
