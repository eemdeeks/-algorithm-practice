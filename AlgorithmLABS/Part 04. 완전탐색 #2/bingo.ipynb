{
 "cells": [
  {
   "cell_type": "code",
   "execution_count": 1,
   "id": "ddd48e0b",
   "metadata": {},
   "outputs": [
    {
     "name": "stdout",
     "output_type": "stream",
     "text": [
      "11 12 2 24 10\n",
      "16 1 13 3 25\n",
      "6 20 5 21 17\n",
      "19 4 8 14 9\n",
      "22 15 7 23 18\n",
      "5 10 7 16 2\n",
      "4 22 8 17 13\n",
      "3 18 1 6 25\n",
      "12 19 23 14 21\n",
      "11 24 9 20 15\n",
      "15\n"
     ]
    }
   ],
   "source": [
    "ls = []\n",
    "pro = []\n",
    "for i in range(5):\n",
    "  ls.append(list(map(int,input().split())))\n",
    "for i in range(5):\n",
    "  pro.append(list(map(int,input().split())))\n",
    "n = 0\n",
    "bingo = 0\n",
    "answer = []\n",
    "for i in range(5):\n",
    "  for j in range(5):\n",
    "    bingo = 0\n",
    "    for k in range(5):\n",
    "      for l in range(5):\n",
    "        if pro[i][j] == ls[k][l]:\n",
    "          ls[k][l] = 0\n",
    "    for k in range(5):\n",
    "      ad = 0\n",
    "      for l in range(5):\n",
    "        ad += ls[k][l]\n",
    "      if ad == 0:\n",
    "        bingo +=1\n",
    "    for k in range(5):\n",
    "      ad = 0\n",
    "      for l in range(5):\n",
    "        ad += ls[l][k]\n",
    "      if ad == 0:\n",
    "        bingo +=1\n",
    "    ad = 0\n",
    "    for k in range(5):\n",
    "      ad += ls[k][k]\n",
    "    if ad == 0:\n",
    "      bingo += 1\n",
    "    ad = 0\n",
    "    for k in range(5):\n",
    "      ad += ls[k][4-k]\n",
    "    if ad == 0:\n",
    "      bingo += 1\n",
    "    if bingo >= 3:\n",
    "      answer.append(n + 1)\n",
    "    n += 1   \n",
    "print(answer[0])"
   ]
  },
  {
   "cell_type": "code",
   "execution_count": null,
   "id": "67fb3eb0",
   "metadata": {},
   "outputs": [],
   "source": []
  }
 ],
 "metadata": {
  "kernelspec": {
   "display_name": "Python 3 (ipykernel)",
   "language": "python",
   "name": "python3"
  },
  "language_info": {
   "codemirror_mode": {
    "name": "ipython",
    "version": 3
   },
   "file_extension": ".py",
   "mimetype": "text/x-python",
   "name": "python",
   "nbconvert_exporter": "python",
   "pygments_lexer": "ipython3",
   "version": "3.8.9"
  }
 },
 "nbformat": 4,
 "nbformat_minor": 5
}
