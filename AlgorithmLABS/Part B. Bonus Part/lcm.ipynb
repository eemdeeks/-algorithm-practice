{
 "cells": [
  {
   "cell_type": "code",
   "execution_count": 17,
   "id": "24b6d372",
   "metadata": {},
   "outputs": [
    {
     "name": "stdout",
     "output_type": "stream",
     "text": [
      "121 199\n",
      "24079\n"
     ]
    }
   ],
   "source": [
    "## 최소공배수\n",
    "a,b = map(int,input().split())\n",
    "def lcm(a,b):\n",
    "    for i in range(max(a,b),a*b+1):\n",
    "        if (a*b)%i == 0 and i % a == 0 and i% b ==0:\n",
    "            return i\n",
    "print(lcm(a,b))"
   ]
  },
  {
   "cell_type": "code",
   "execution_count": 14,
   "id": "d9a3e661",
   "metadata": {},
   "outputs": [
    {
     "data": {
      "text/plain": [
       "23958"
      ]
     },
     "execution_count": 14,
     "metadata": {},
     "output_type": "execute_result"
    }
   ],
   "source": []
  },
  {
   "cell_type": "code",
   "execution_count": null,
   "id": "b25f5c33",
   "metadata": {},
   "outputs": [],
   "source": []
  }
 ],
 "metadata": {
  "kernelspec": {
   "display_name": "Python 3 (ipykernel)",
   "language": "python",
   "name": "python3"
  },
  "language_info": {
   "codemirror_mode": {
    "name": "ipython",
    "version": 3
   },
   "file_extension": ".py",
   "mimetype": "text/x-python",
   "name": "python",
   "nbconvert_exporter": "python",
   "pygments_lexer": "ipython3",
   "version": "3.8.9"
  }
 },
 "nbformat": 4,
 "nbformat_minor": 5
}
