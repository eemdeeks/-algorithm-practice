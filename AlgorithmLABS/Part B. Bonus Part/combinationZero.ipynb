{
 "cells": [
  {
   "cell_type": "code",
   "execution_count": 2,
   "id": "8f428e8a",
   "metadata": {},
   "outputs": [
    {
     "name": "stdout",
     "output_type": "stream",
     "text": [
      "25 12\n",
      "2\n"
     ]
    }
   ],
   "source": [
    "def factorial(n):\n",
    "    if n == 0 or n == 1:\n",
    "        return 1\n",
    "    else:\n",
    "        return factorial(n-1) * n\n",
    "def combination(n, m):\n",
    "    return int(factorial(n) / (factorial(m) * factorial(n-m)))\n",
    "\n",
    "a,b = map(int,input().split())\n",
    "answer = combination(a,b)\n",
    "i = 0\n",
    "while(True):\n",
    "    if answer%10 != 0:\n",
    "        print(i)\n",
    "        break\n",
    "    else:\n",
    "        answer = answer/10\n",
    "        i+=1"
   ]
  },
  {
   "cell_type": "code",
   "execution_count": null,
   "id": "21d16e0e",
   "metadata": {},
   "outputs": [],
   "source": [
    "def factorial2(n):\n",
    "    answer = 1\n",
    "    if n== 0 or n == 1:\n",
    "        return 1\n",
    "    else:\n",
    "        for i in range(1,n+1):\n",
    "            answer *= i\n",
    "        return answer\n",
    "factorial2()"
   ]
  },
  {
   "cell_type": "code",
   "execution_count": null,
   "id": "f5a5d0ce",
   "metadata": {},
   "outputs": [],
   "source": []
  }
 ],
 "metadata": {
  "kernelspec": {
   "display_name": "Python 3 (ipykernel)",
   "language": "python",
   "name": "python3"
  },
  "language_info": {
   "codemirror_mode": {
    "name": "ipython",
    "version": 3
   },
   "file_extension": ".py",
   "mimetype": "text/x-python",
   "name": "python",
   "nbconvert_exporter": "python",
   "pygments_lexer": "ipython3",
   "version": "3.8.9"
  }
 },
 "nbformat": 4,
 "nbformat_minor": 5
}
