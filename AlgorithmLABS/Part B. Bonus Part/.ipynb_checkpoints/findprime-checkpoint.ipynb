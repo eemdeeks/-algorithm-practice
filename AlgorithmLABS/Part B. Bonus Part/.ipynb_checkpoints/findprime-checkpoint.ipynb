{
 "cells": [
  {
   "cell_type": "code",
   "execution_count": 8,
   "id": "c144f3cc",
   "metadata": {},
   "outputs": [
    {
     "name": "stdout",
     "output_type": "stream",
     "text": [
      "4\n",
      "1\n",
      "3\n",
      "5\n",
      "7\n",
      "3\n"
     ]
    }
   ],
   "source": [
    "### 에라토스테네스의 체 이용해서.\n",
    "n = int(input())\n",
    "ls = []\n",
    "result = 0\n",
    "for i in range(1001):\n",
    "    ls.append(True)\n",
    "for i in range(2,1001):\n",
    "    if ls[i]:\n",
    "        for j in range(i+1,1001):\n",
    "            if j%i == 0:\n",
    "                ls[j]=False\n",
    "for i in range(2):\n",
    "    ls[i] = False\n",
    "for i in range(n):\n",
    "    if ls[int(input())]:\n",
    "        result+=1\n",
    "print(result)\n",
    "            \n",
    "        "
   ]
  },
  {
   "cell_type": "code",
   "execution_count": null,
   "id": "2b0396f8",
   "metadata": {},
   "outputs": [],
   "source": [
    "\n"
   ]
  },
  {
   "cell_type": "code",
   "execution_count": null,
   "id": "423d11ec",
   "metadata": {},
   "outputs": [],
   "source": []
  }
 ],
 "metadata": {
  "kernelspec": {
   "display_name": "Python 3 (ipykernel)",
   "language": "python",
   "name": "python3"
  },
  "language_info": {
   "codemirror_mode": {
    "name": "ipython",
    "version": 3
   },
   "file_extension": ".py",
   "mimetype": "text/x-python",
   "name": "python",
   "nbconvert_exporter": "python",
   "pygments_lexer": "ipython3",
   "version": "3.8.9"
  }
 },
 "nbformat": 4,
 "nbformat_minor": 5
}
