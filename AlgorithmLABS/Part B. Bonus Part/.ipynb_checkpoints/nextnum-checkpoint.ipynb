{
 "cells": [
  {
   "cell_type": "code",
   "execution_count": null,
   "id": "f279eede",
   "metadata": {},
   "outputs": [],
   "source": [
    "while(True):\n",
    "    a,b,c = map(int,input().split())\n",
    "    if a+b+c == 0:\n",
    "        break\n",
    "    if (b-a) == (c-b):\n",
    "        print(\"AP\", c+(c-b))\n",
    "    else:\n",
    "        print(\"GP\", c*(c/b))\n",
    "    "
   ]
  },
  {
   "cell_type": "code",
   "execution_count": null,
   "id": "d32b3e62",
   "metadata": {},
   "outputs": [],
   "source": []
  }
 ],
 "metadata": {
  "kernelspec": {
   "display_name": "Python 3 (ipykernel)",
   "language": "python",
   "name": "python3"
  },
  "language_info": {
   "codemirror_mode": {
    "name": "ipython",
    "version": 3
   },
   "file_extension": ".py",
   "mimetype": "text/x-python",
   "name": "python",
   "nbconvert_exporter": "python",
   "pygments_lexer": "ipython3",
   "version": "3.8.9"
  }
 },
 "nbformat": 4,
 "nbformat_minor": 5
}
