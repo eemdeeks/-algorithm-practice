{
 "cells": [
  {
   "cell_type": "code",
   "execution_count": 1,
   "id": "f279eede",
   "metadata": {},
   "outputs": [
    {
     "name": "stdout",
     "output_type": "stream",
     "text": [
      "4 7 10\n",
      "AP 13\n",
      "2 6 18\n",
      "GP 54\n",
      "0 0 0\n"
     ]
    }
   ],
   "source": [
    "while(True):\n",
    "    a,b,c = map(int,input().split())\n",
    "    if a==0 and b==0 and c == 0:\n",
    "        break\n",
    "    if (b-a) == (c-b) and (b-a != 0):\n",
    "        print(\"AP\", c+(c-b))\n",
    "    else:\n",
    "        print(\"GP\", int(c*(c/b)))"
   ]
  },
  {
   "cell_type": "code",
   "execution_count": null,
   "id": "d32b3e62",
   "metadata": {},
   "outputs": [],
   "source": []
  }
 ],
 "metadata": {
  "kernelspec": {
   "display_name": "Python 3 (ipykernel)",
   "language": "python",
   "name": "python3"
  },
  "language_info": {
   "codemirror_mode": {
    "name": "ipython",
    "version": 3
   },
   "file_extension": ".py",
   "mimetype": "text/x-python",
   "name": "python",
   "nbconvert_exporter": "python",
   "pygments_lexer": "ipython3",
   "version": "3.8.9"
  }
 },
 "nbformat": 4,
 "nbformat_minor": 5
}
