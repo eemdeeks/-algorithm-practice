{
 "cells": [
  {
   "cell_type": "markdown",
   "metadata": {},
   "source": [
    "## 시간 복잡도\n",
    "### 문제를 효울적으로 해결\n",
    "\n",
    "- 똑같은 문제를 해결해도 빠르게 해결하는 것이 중요\n",
    "- 같은 입력을 제공했을 때, 어느 프로그램이 더 빠른가? (제한 시간 안에 해결)\n",
    "- 내 프로그램은 얼마나 빠를까??"
   ]
  },
  {
   "cell_type": "markdown",
   "metadata": {},
   "source": [
    "\n",
    "- 프로그램이 대략적으로 몇 개의 명령을 수행하는가?"
   ]
  },
  {
   "cell_type": "markdown",
   "metadata": {},
   "source": [
    "O(1) = O(6) -> 상수번 수행한다.\n",
    "\n",
    "O(n) = O(n+5) -> 입력에 따라 수행하는 명령어의 갯수가 크게 달라짐  \n",
    "ex)"
   ]
  },
  {
   "cell_type": "code",
   "execution_count": 4,
   "metadata": {},
   "outputs": [
    {
     "name": "stdout",
     "output_type": "stream",
     "text": [
      "5\n"
     ]
    }
   ],
   "source": [
    "sum = 0\n",
    "n = int(input())\n",
    "for i in range(n):\n",
    "    sum += 1"
   ]
  },
  {
   "cell_type": "markdown",
   "metadata": {},
   "source": [
    "O(n^2+n) = O(n^2) -> n^2에 비해 n은 매우 작음,  \n",
    "ex)"
   ]
  },
  {
   "cell_type": "code",
   "execution_count": 6,
   "metadata": {},
   "outputs": [
    {
     "name": "stdout",
     "output_type": "stream",
     "text": [
      "4\n"
     ]
    }
   ],
   "source": [
    "sum = 0\n",
    "n = int(input())\n",
    "for i in range(n):\n",
    "    for j in range(n):\n",
    "        sum += 1"
   ]
  },
  {
   "cell_type": "code",
   "execution_count": 2,
   "metadata": {},
   "outputs": [
    {
     "name": "stdout",
     "output_type": "stream",
     "text": [
      "5\n"
     ]
    }
   ],
   "source": [
    "ad = 0\n",
    "n = int(input())\n",
    "for i in range(n):\n",
    "    for j in range(i,n):\n",
    "        ad += i * j\n"
   ]
  },
  {
   "cell_type": "markdown",
   "metadata": {},
   "source": [
    "위 예시인 경우\n",
    "* i = 0 -> 0 ~ n-1 => n\n",
    "*     1 -> 1 ~ n-1 => n-1\n",
    "*     2 -> 2 ~ n-1 => n-2\n",
    "*     ...\n",
    "*     n-1 -> n-1 ~ n-1 => 1\n",
    "    \n",
    "=> 1+2+...+n => n(n+1)/2\n",
    "O(n(n+1)/2) => O(n^2)  \n",
    "결국 O(n^2)"
   ]
  },
  {
   "cell_type": "code",
   "execution_count": 3,
   "metadata": {},
   "outputs": [
    {
     "name": "stdout",
     "output_type": "stream",
     "text": [
      "3\n"
     ]
    }
   ],
   "source": [
    "ex = 0\n",
    "n = int(input())\n",
    "\n",
    "for i in range(n):\n",
    "    if(i*i == n):\n",
    "        break\n"
   ]
  },
  {
   "cell_type": "markdown",
   "metadata": {},
   "source": [
    "위의 예시 경우 i에 따라 반복 횟수가 달라지지만 프로그램에서는 항상 최악일 때를 생각한다.\n",
    "고로 O(n)"
   ]
  },
  {
   "cell_type": "markdown",
   "metadata": {},
   "source": [
    "### 시간 복잡도는\n",
    "- 반복문\n",
    "- 최고차항"
   ]
  },
  {
   "cell_type": "markdown",
   "metadata": {},
   "source": [
    "## 입력 크기에 따른 수행 시간\n",
    "\n",
    "- 명령을 많이 실행하면 시간도 오래 걸릴 것이다.\n",
    "- 구체적으로 얼마나 걸리는가?\n",
    "  \n",
    "    예시 1)  O(n)  \n",
    "    예시 2)  O(n^2)"
   ]
  },
  {
   "cell_type": "code",
   "execution_count": 1,
   "metadata": {},
   "outputs": [
    {
     "name": "stdout",
     "output_type": "stream",
     "text": [
      "5\n",
      "4\n"
     ]
    }
   ],
   "source": [
    "## 실험\n",
    "## 예시 1\n",
    "s = 0\n",
    "n = int(input())\n",
    "\n",
    "for i in range(n):\n",
    "    s = (s+1) % (i+1)\n",
    "print(s)"
   ]
  },
  {
   "cell_type": "code",
   "execution_count": 2,
   "metadata": {},
   "outputs": [
    {
     "name": "stdout",
     "output_type": "stream",
     "text": [
      "5\n",
      "5\n"
     ]
    }
   ],
   "source": [
    "## 예시 2\n",
    "s = 0\n",
    "n = int(input())\n",
    "\n",
    "for i in range(n):\n",
    "    for j in range(n):\n",
    "        s = (s+1) % (i + j + 1)\n",
    "print(s)"
   ]
  },
  {
   "cell_type": "markdown",
   "metadata": {},
   "source": [
    "## 실제 수행 시간"
   ]
  },
  {
   "cell_type": "markdown",
   "metadata": {},
   "source": [
    "### 선택 정렬\n",
    "- 최솟값을 앞으로 이동시킴\n",
    "\n",
    "최솟값을 한 번 찾는데 O(n) 걸림\n",
    "최솟값을 n 번 찾아야 함\n",
    "선택 정렬 = O(n^2)\n",
    "\n",
    "### 삽입 정렬\n",
    "- 원소를 차례대로 정렬된 배열에 삽입시킴"
   ]
  },
  {
   "cell_type": "markdown",
   "metadata": {},
   "source": [
    "### 버블 정렬\n",
    "- 인접한 원소를 비교하여 큰 수를 뒤로 보냄  \n",
    "\n",
    "맨 뒤의 숫자를 확정하는데 O(n)걸림  \n",
    "n 개의 숫자를 확정해야 함\n",
    "=> O(n^2)"
   ]
  },
  {
   "cell_type": "code",
   "execution_count": 1,
   "metadata": {},
   "outputs": [],
   "source": [
    "### 선택정렬\n",
    "def selection_sort(arr):\n",
    "    for i in range(len(arr) - 1):\n",
    "        min_idx = i\n",
    "        for j in range(i+1,len(arr)):\n",
    "            if arr[j] < arr[min_idx]:\n",
    "                min_idx = j\n",
    "        arr[i], arr[min_idx] = arr[min_idx], arr[i]"
   ]
  },
  {
   "cell_type": "code",
   "execution_count": 1,
   "metadata": {},
   "outputs": [],
   "source": [
    "### 버블정렬\n",
    "def bubble_sort(arr):\n",
    "    for i in range(len(arr) - 1, 0, -1):\n",
    "        for j in range(i):\n",
    "            if arr[j] > arr[j+1]:\n",
    "                arr[j], arr[j + 1] = arr[j + 1], arr[j]"
   ]
  },
  {
   "cell_type": "code",
   "execution_count": 1,
   "metadata": {},
   "outputs": [],
   "source": [
    "### 삽입정렬\n",
    "def insertion_sort(arr):\n",
    "    for end in range(1, len(arr)):\n",
    "        for i in range(end, 0, -1):\n",
    "            if arr[i - 1] > arr[i]:\n",
    "                arr[i - 1], arr[i] = arr[i], arr[i - 1]"
   ]
  },
  {
   "cell_type": "code",
   "execution_count": 1,
   "metadata": {},
   "outputs": [],
   "source": [
    "### 합병정렬\n",
    "def merge_sort(arr):\n",
    "    if len(arr) < 2:\n",
    "        return arr\n",
    "\n",
    "    mid = len(arr) // 2\n",
    "    low_arr = merge_sort(arr[:mid])\n",
    "    high_arr = merge_sort(arr[mid:])\n",
    "\n",
    "    merged_arr = []\n",
    "    l = h = 0\n",
    "    while l < len(low_arr) and h < len(high_arr):\n",
    "        if low_arr[l] < high_arr[h]:\n",
    "            merged_arr.append(low_arr[l])\n",
    "            l += 1\n",
    "        else:\n",
    "            merged_arr.append(high_arr[h])\n",
    "            h += 1\n",
    "    merged_arr += low_arr[l:]\n",
    "    merged_arr += high_arr[h:]\n",
    "    return merged_arr"
   ]
  },
  {
   "cell_type": "code",
   "execution_count": 1,
   "metadata": {},
   "outputs": [],
   "source": [
    "### 퀵 정렬\n",
    "def quick_sort(arr):\n",
    "    if len(arr) <= 1:\n",
    "        return arr\n",
    "    pivot = arr[len(arr) // 2]\n",
    "    lesser_arr, equal_arr, greater_arr = [], [], []\n",
    "    for num in arr:\n",
    "        if num < pivot:\n",
    "            lesser_arr.append(num)\n",
    "        elif num > pivot:\n",
    "            greater_arr.append(num)\n",
    "        else:\n",
    "            equal_arr.append(num)\n",
    "    return quick_sort(lesser_arr) + equal_arr + quick_sort(greater_arr)"
   ]
  },
  {
   "cell_type": "code",
   "execution_count": null,
   "metadata": {},
   "outputs": [],
   "source": []
  }
 ],
 "metadata": {
  "kernelspec": {
   "display_name": "Python 3",
   "language": "python",
   "name": "python3"
  },
  "language_info": {
   "codemirror_mode": {
    "name": "ipython",
    "version": 3
   },
   "file_extension": ".py",
   "mimetype": "text/x-python",
   "name": "python",
   "nbconvert_exporter": "python",
   "pygments_lexer": "ipython3",
   "version": "3.8.3"
  }
 },
 "nbformat": 4,
 "nbformat_minor": 4
}
