{
 "cells": [
  {
   "cell_type": "code",
   "execution_count": 3,
   "id": "1c5d96b0",
   "metadata": {},
   "outputs": [
    {
     "name": "stdout",
     "output_type": "stream",
     "text": [
      "4\n",
      "1\n",
      "3\n",
      "7\n",
      "13\n"
     ]
    },
    {
     "data": {
      "text/plain": [
       "[2, 4, 6]"
      ]
     },
     "execution_count": 3,
     "metadata": {},
     "output_type": "execute_result"
    }
   ],
   "source": [
    "n = int(input())\n",
    "ls = []\n",
    "result = []\n",
    "for i in range(n):\n",
    "    ls.append(int(input()))\n",
    "for i in range(n):\n",
    "    if i == n-1:\n",
    "        break\n",
    "    result.append(abs(ls[i]-ls[i+1]))\n",
    "\n"
   ]
  },
  {
   "cell_type": "code",
   "execution_count": 4,
   "id": "a3fcffac",
   "metadata": {},
   "outputs": [
    {
     "data": {
      "text/plain": [
       "2"
      ]
     },
     "execution_count": 4,
     "metadata": {},
     "output_type": "execute_result"
    }
   ],
   "source": [
    "def GCD(a,b):\n",
    "    while b != 0:\n",
    "        a,b=b,a%b\n",
    "    return a\n",
    "num = result[0]\n",
    "for i in range(len(result)):\n",
    "    num = GCD(num,result[i])\n",
    "num"
   ]
  },
  {
   "cell_type": "code",
   "execution_count": 5,
   "id": "4ece0704",
   "metadata": {},
   "outputs": [],
   "source": [
    "solution = 0\n",
    "for i in result:\n",
    "    solution += i//num - 1"
   ]
  },
  {
   "cell_type": "code",
   "execution_count": 6,
   "id": "c48b5b5d",
   "metadata": {},
   "outputs": [
    {
     "data": {
      "text/plain": [
       "3"
      ]
     },
     "execution_count": 6,
     "metadata": {},
     "output_type": "execute_result"
    }
   ],
   "source": [
    "solution"
   ]
  },
  {
   "cell_type": "code",
   "execution_count": null,
   "id": "cdcd3ea2",
   "metadata": {},
   "outputs": [],
   "source": []
  }
 ],
 "metadata": {
  "kernelspec": {
   "display_name": "Python 3 (ipykernel)",
   "language": "python",
   "name": "python3"
  },
  "language_info": {
   "codemirror_mode": {
    "name": "ipython",
    "version": 3
   },
   "file_extension": ".py",
   "mimetype": "text/x-python",
   "name": "python",
   "nbconvert_exporter": "python",
   "pygments_lexer": "ipython3",
   "version": "3.8.9"
  }
 },
 "nbformat": 4,
 "nbformat_minor": 5
}
