{
 "cells": [
  {
   "cell_type": "code",
   "execution_count": 7,
   "id": "8172e748",
   "metadata": {},
   "outputs": [
    {
     "name": "stdout",
     "output_type": "stream",
     "text": [
      "AABCCCDC\n",
      "2AB3CDC"
     ]
    }
   ],
   "source": [
    "str = input()\n",
    "n = 1\n",
    "for i in range(len(str)):\n",
    "    if len(str) == 1:\n",
    "        print(str)\n",
    "        break\n",
    "    if i == len(str)-1:\n",
    "        if str[i] == str[i-1]:\n",
    "            print(n,end ='')\n",
    "            print(str[i],end='')\n",
    "        else:\n",
    "            print(str[i],end = '')\n",
    "    elif str[i] == str[i+1]:\n",
    "        n += 1\n",
    "    else:\n",
    "        if n > 1:\n",
    "            print(n,end='')\n",
    "            print(str[i],end='')\n",
    "            n = 1\n",
    "        else:\n",
    "            print(str[i],end='')\n",
    "            n=1\n",
    "    "
   ]
  },
  {
   "cell_type": "code",
   "execution_count": null,
   "id": "44cdb6fe",
   "metadata": {},
   "outputs": [],
   "source": []
  },
  {
   "cell_type": "code",
   "execution_count": null,
   "id": "d4dc0665",
   "metadata": {},
   "outputs": [],
   "source": []
  }
 ],
 "metadata": {
  "kernelspec": {
   "display_name": "Python 3 (ipykernel)",
   "language": "python",
   "name": "python3"
  },
  "language_info": {
   "codemirror_mode": {
    "name": "ipython",
    "version": 3
   },
   "file_extension": ".py",
   "mimetype": "text/x-python",
   "name": "python",
   "nbconvert_exporter": "python",
   "pygments_lexer": "ipython3",
   "version": "3.8.9"
  }
 },
 "nbformat": 4,
 "nbformat_minor": 5
}
