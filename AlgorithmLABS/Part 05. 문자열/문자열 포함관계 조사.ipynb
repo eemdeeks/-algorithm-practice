{
 "cells": [
  {
   "cell_type": "code",
   "execution_count": 1,
   "id": "bbb11c7b",
   "metadata": {},
   "outputs": [
    {
     "name": "stdout",
     "output_type": "stream",
     "text": [
      "watermelon\n",
      "melon\n"
     ]
    },
    {
     "data": {
      "text/plain": [
       "'YES'"
      ]
     },
     "execution_count": 1,
     "metadata": {},
     "output_type": "execute_result"
    }
   ],
   "source": [
    "##틀린답 testcase 11개 중 1개 틀림\n",
    "str1 = input()\n",
    "str2 = input()\n",
    "def solution(str1,str2):\n",
    "    n = 0\n",
    "    for i in str1:\n",
    "        if i != str2[n]:\n",
    "            n = 0\n",
    "        else:\n",
    "            n += 1\n",
    "        if n == len(str2):\n",
    "            return(\"YES\")\n",
    "    return(\"NO\")\n",
    "solution(str1,str2)\n",
    "        "
   ]
  },
  {
   "cell_type": "code",
   "execution_count": 2,
   "id": "6a5316fb",
   "metadata": {},
   "outputs": [
    {
     "name": "stdout",
     "output_type": "stream",
     "text": [
      "watermelonwater\n",
      "melon\n"
     ]
    },
    {
     "data": {
      "text/plain": [
       "'YES'"
      ]
     },
     "execution_count": 2,
     "metadata": {},
     "output_type": "execute_result"
    }
   ],
   "source": [
    "solution(input(),input())"
   ]
  },
  {
   "cell_type": "code",
   "execution_count": 18,
   "id": "710b5aa6",
   "metadata": {},
   "outputs": [
    {
     "name": "stdout",
     "output_type": "stream",
     "text": [
      "dfasdf\n",
      "dfs\n"
     ]
    },
    {
     "data": {
      "text/plain": [
       "'NO'"
      ]
     },
     "execution_count": 18,
     "metadata": {},
     "output_type": "execute_result"
    }
   ],
   "source": [
    "solution(input(),input())"
   ]
  },
  {
   "cell_type": "code",
   "execution_count": 19,
   "id": "24d118dd",
   "metadata": {},
   "outputs": [],
   "source": [
    "def solution2(str1,str2):\n",
    "    if str2 in str1:\n",
    "        return(\"YES\")\n",
    "    else:\n",
    "        return(\"NO\")\n"
   ]
  },
  {
   "cell_type": "code",
   "execution_count": 20,
   "id": "8b37fbf7",
   "metadata": {},
   "outputs": [
    {
     "name": "stdout",
     "output_type": "stream",
     "text": [
      "water\n",
      "at\n"
     ]
    },
    {
     "data": {
      "text/plain": [
       "'YES'"
      ]
     },
     "execution_count": 20,
     "metadata": {},
     "output_type": "execute_result"
    }
   ],
   "source": [
    "solution2(input(),input())"
   ]
  },
  {
   "cell_type": "code",
   "execution_count": null,
   "id": "f07a62c4",
   "metadata": {},
   "outputs": [],
   "source": []
  }
 ],
 "metadata": {
  "kernelspec": {
   "display_name": "Python 3 (ipykernel)",
   "language": "python",
   "name": "python3"
  },
  "language_info": {
   "codemirror_mode": {
    "name": "ipython",
    "version": 3
   },
   "file_extension": ".py",
   "mimetype": "text/x-python",
   "name": "python",
   "nbconvert_exporter": "python",
   "pygments_lexer": "ipython3",
   "version": "3.8.9"
  }
 },
 "nbformat": 4,
 "nbformat_minor": 5
}
