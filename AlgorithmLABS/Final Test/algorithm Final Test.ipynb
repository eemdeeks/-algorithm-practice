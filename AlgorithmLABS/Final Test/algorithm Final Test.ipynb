{
 "cells": [
  {
   "cell_type": "code",
   "execution_count": 14,
   "id": "82168cba",
   "metadata": {},
   "outputs": [
    {
     "name": "stdout",
     "output_type": "stream",
     "text": [
      "Algorithm\n",
      "Final\n",
      "Test!\n"
     ]
    }
   ],
   "source": [
    "#1\n",
    "print(\"Algorithm\")\n",
    "print(\"Final\")\n",
    "print(\"Test!\")"
   ]
  },
  {
   "cell_type": "code",
   "execution_count": 15,
   "id": "584e60e8",
   "metadata": {},
   "outputs": [
    {
     "name": "stdout",
     "output_type": "stream",
     "text": [
      "3 5\n",
      "15\n"
     ]
    }
   ],
   "source": [
    "#2\n",
    "a,b = map(int,input().split())\n",
    "print(a*b)"
   ]
  },
  {
   "cell_type": "code",
   "execution_count": 16,
   "id": "729a63f6",
   "metadata": {},
   "outputs": [
    {
     "name": "stdout",
     "output_type": "stream",
     "text": [
      "10\n",
      "1 2 X 4 5 X 7 8 X 10 "
     ]
    }
   ],
   "source": [
    "#3\n",
    "for i in range(1,int(input())+1):\n",
    "  if i%3 == 0:\n",
    "    print(\"X\",end=' ')\n",
    "  else:\n",
    "    print(i,end=' ')"
   ]
  },
  {
   "cell_type": "code",
   "execution_count": 18,
   "id": "c1b2d8cc",
   "metadata": {},
   "outputs": [
    {
     "name": "stdout",
     "output_type": "stream",
     "text": [
      "5\n",
      "6 8\n",
      "#1 48\n",
      "9 8\n",
      "#2 72\n",
      "2 14\n",
      "#3 -1\n",
      "13 6\n",
      "#4 -1\n",
      "20 5\n",
      "#5 -1\n"
     ]
    }
   ],
   "source": [
    "#4\n",
    "for i in range(1,int(input())+1):\n",
    "  a,b = map(int,input().split())\n",
    "  if a >= 10 or b >= 10:\n",
    "    print(\"#%d -1\"%i)\n",
    "  else:\n",
    "    print(\"#%d \" %i + str(a*b))"
   ]
  },
  {
   "cell_type": "code",
   "execution_count": 19,
   "id": "c32953f3",
   "metadata": {},
   "outputs": [
    {
     "name": "stdout",
     "output_type": "stream",
     "text": [
      "10\n",
      "4\n"
     ]
    }
   ],
   "source": [
    "#5\n",
    "n = int(input())\n",
    "money = 0\n",
    "index = 1\n",
    "while(True):\n",
    "  money += index\n",
    "  if money >= n:\n",
    "    print(index)\n",
    "    break\n",
    "  index += 1"
   ]
  },
  {
   "cell_type": "code",
   "execution_count": 8,
   "id": "e1cb0c8f",
   "metadata": {},
   "outputs": [],
   "source": [
    "#6\n",
    "for i in range(1, int(input())+1):\n",
    "  len,sum_max = map(int,input().split())\n",
    "  ls = list(map(int,input().split()))\n",
    "  result = -1\n",
    "  for j in range(len):\n",
    "    if j == len-1:\n",
    "      break\n",
    "    for k in range(j+1,len):\n",
    "      if ls[j] + ls[k] <= sum_max and ls[j] + ls[k] >= result:\n",
    "        result = ls[j] + ls[k]\n",
    "  print(\"#%d\"%i,result)\n",
    "\n"
   ]
  },
  {
   "cell_type": "code",
   "execution_count": null,
   "id": "098eefc3",
   "metadata": {},
   "outputs": [],
   "source": [
    "## 6번문제 test case\n",
    "10\n",
    "6 16\n",
    "15 10 8 15 31 14\n",
    "9 11\n",
    "1 42 7 32 49 43 23 26 26\n",
    "10 9\n",
    "39 34 16 16 3 22 3 12 2 47\n",
    "5 16\n",
    "40 21 26 47 23\n",
    "6 32\n",
    "3 6 3 2 33 28\n",
    "9 15\n",
    "9 40 2 12 35 22 8 30 11\n",
    "5 2\n",
    "37 13 7 40 40\n",
    "5 43\n",
    "23 43 49 30 34\n",
    "7 8\n",
    "36 1 14 3 17 34 6\n",
    "6 33\n",
    "30 5 43 23 19 37\n"
   ]
  },
  {
   "cell_type": "code",
   "execution_count": 20,
   "id": "dd0067ce",
   "metadata": {},
   "outputs": [
    {
     "name": "stdout",
     "output_type": "stream",
     "text": [
      "10\n",
      "1000000000\n",
      "0100000000\n",
      "0010000000\n",
      "0001000000\n",
      "0000100000\n",
      "0000010000\n",
      "0000001000\n",
      "0000000100\n",
      "0000000010\n",
      "0000000001\n"
     ]
    }
   ],
   "source": [
    "#7\n",
    "n = int(input())\n",
    "\n",
    "for i in range(1,n+1):\n",
    "  for j in range(1,n+1):\n",
    "    if i == j:\n",
    "      print(1,end='')\n",
    "    else:\n",
    "      print(0,end='')\n",
    "  print()"
   ]
  },
  {
   "cell_type": "code",
   "execution_count": 10,
   "id": "fb5834c6",
   "metadata": {},
   "outputs": [],
   "source": [
    "#8\n",
    "for i in range(1,int(input())+1):\n",
    "  n = int(input())\n",
    "  q = int(input())\n",
    "  ls = []\n",
    "  for j in range(n):\n",
    "    ls.append(0)\n",
    "  for j in range(1,q+1):\n",
    "    l,r = map(int,input().split())\n",
    "    for k in range(l-1,r):\n",
    "      ls[k] = j\n",
    "  print(\"#%d\"%i)\n",
    "  for j in ls:\n",
    "    print(j,end=' ')\n",
    "  print()"
   ]
  },
  {
   "cell_type": "code",
   "execution_count": 22,
   "id": "d4f04e05",
   "metadata": {
    "scrolled": false
   },
   "outputs": [
    {
     "ename": "SyntaxError",
     "evalue": "invalid syntax (3090745.py, line 5)",
     "output_type": "error",
     "traceback": [
      "\u001b[0;36m  Input \u001b[0;32mIn [22]\u001b[0;36m\u001b[0m\n\u001b[0;31m    5 7\u001b[0m\n\u001b[0m      ^\u001b[0m\n\u001b[0;31mSyntaxError\u001b[0m\u001b[0;31m:\u001b[0m invalid syntax\n"
     ]
    }
   ],
   "source": [
    "##8번 testcase\n",
    "5\n",
    "9\n",
    "6\n",
    "5 7\n",
    "7 8\n",
    "4 7\n",
    "7 8\n",
    "8 9\n",
    "4 7\n",
    "10\n",
    "8\n",
    "5 10\n",
    "7 8\n",
    "4 7\n",
    "7 7\n",
    "8 9\n",
    "7 8\n",
    "2 4\n",
    "6 9\n",
    "5\n",
    "10\n",
    "2 5\n",
    "1 4\n",
    "3 4\n",
    "2 4\n",
    "1 5\n",
    "1 4\n",
    "3 5\n",
    "3 3\n",
    "3 4\n",
    "4 5\n",
    "8\n",
    "7\n",
    "2 5\n",
    "7 8\n",
    "6 7\n",
    "4 7\n",
    "7 8\n",
    "1 8\n",
    "6 7\n",
    "8\n",
    "6\n",
    "2 5\n",
    "7 8\n",
    "6 7\n",
    "4 7\n",
    "7 8\n",
    "1 8\n"
   ]
  },
  {
   "cell_type": "code",
   "execution_count": 11,
   "id": "c0f96ee3",
   "metadata": {},
   "outputs": [],
   "source": [
    "#9\n",
    "for i in range(1, int(input())+1):\n",
    "  man,num = map(int,input().split())\n",
    "  highman = 0\n",
    "  highscore = 0\n",
    "  for j in range(man):\n",
    "    score = sum(list(map(int,input().split())))\n",
    "    if score == highscore:\n",
    "      highman += 1\n",
    "    elif score >highscore:\n",
    "      highscore = score\n",
    "      highman = 1\n",
    "  print(\"#%d\"%i,highman,highscore)  "
   ]
  },
  {
   "cell_type": "code",
   "execution_count": 21,
   "id": "778aca35",
   "metadata": {},
   "outputs": [
    {
     "ename": "SyntaxError",
     "evalue": "invalid syntax (4195921861.py, line 3)",
     "output_type": "error",
     "traceback": [
      "\u001b[0;36m  Input \u001b[0;32mIn [21]\u001b[0;36m\u001b[0m\n\u001b[0;31m    5 5\u001b[0m\n\u001b[0m      ^\u001b[0m\n\u001b[0;31mSyntaxError\u001b[0m\u001b[0;31m:\u001b[0m invalid syntax\n"
     ]
    }
   ],
   "source": [
    "##9번문제 testcase\n",
    "10\n",
    "5 5\n",
    "1 1 1 0 0 \n",
    "0 1 0 1 1 \n",
    "0 1 1 0 0 \n",
    "1 1 0 1 1 \n",
    "0 0 1 0 0 \n",
    "5 7\n",
    "0 1 0 0 1 1 0 \n",
    "1 0 1 0 0 0 1 \n",
    "0 1 1 1 0 1 0 \n",
    "1 0 0 1 1 0 1 \n",
    "0 0 1 0 1 0 1 \n",
    "4 5\n",
    "1 0 0 1 0 \n",
    "0 1 1 1 0 \n",
    "1 1 1 0 0 \n",
    "0 1 0 1 1 \n",
    "5 5\n",
    "1 1 0 0 0 \n",
    "0 1 0 0 0 \n",
    "1 0 1 0 0 \n",
    "0 0 1 0 0 \n",
    "1 0 1 0 1 \n",
    "5 7\n",
    "0 1 0 0 0 1 0 \n",
    "1 0 1 0 1 0 0 \n",
    "1 0 0 1 1 1 1 \n",
    "1 0 1 0 0 0 0 \n",
    "0 1 0 1 1 0 0 \n",
    "5 6\n",
    "0 1 1 1 0 0 \n",
    "0 1 0 1 1 0 \n",
    "1 1 1 0 0 0 \n",
    "0 0 0 1 0 0 \n",
    "1 1 0 1 0 0 \n",
    "3 6\n",
    "0 0 1 1 0 1 \n",
    "0 0 0 0 0 1 \n",
    "0 0 0 0 1 0 \n",
    "3 6\n",
    "0 0 1 1 1 0 \n",
    "1 1 0 0 1 1 \n",
    "0 1 0 0 1 0 \n",
    "5 6\n",
    "1 0 1 1 0 1 \n",
    "0 0 0 1 0 1 \n",
    "0 0 1 1 1 1 \n",
    "1 1 0 1 0 0 \n",
    "0 1 0 1 1 0 \n",
    "4 7\n",
    "0 0 1 0 0 1 1 \n",
    "1 0 0 1 1 0 1 \n",
    "0 0 0 0 0 0 0 \n",
    "0 1 0 0 1 0 1 \n"
   ]
  },
  {
   "cell_type": "code",
   "execution_count": 12,
   "id": "adbe387b",
   "metadata": {},
   "outputs": [],
   "source": [
    "#10"
   ]
  },
  {
   "cell_type": "code",
   "execution_count": 13,
   "id": "8df7f022",
   "metadata": {},
   "outputs": [],
   "source": [
    "#11\n"
   ]
  },
  {
   "cell_type": "code",
   "execution_count": null,
   "id": "833a6452",
   "metadata": {},
   "outputs": [],
   "source": [
    "#12"
   ]
  }
 ],
 "metadata": {
  "kernelspec": {
   "display_name": "Python 3 (ipykernel)",
   "language": "python",
   "name": "python3"
  },
  "language_info": {
   "codemirror_mode": {
    "name": "ipython",
    "version": 3
   },
   "file_extension": ".py",
   "mimetype": "text/x-python",
   "name": "python",
   "nbconvert_exporter": "python",
   "pygments_lexer": "ipython3",
   "version": "3.8.9"
  }
 },
 "nbformat": 4,
 "nbformat_minor": 5
}
