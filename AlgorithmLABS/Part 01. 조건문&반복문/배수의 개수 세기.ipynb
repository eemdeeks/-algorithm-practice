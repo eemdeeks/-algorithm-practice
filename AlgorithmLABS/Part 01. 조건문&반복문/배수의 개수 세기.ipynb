{
 "cells": [
  {
   "cell_type": "markdown",
   "metadata": {},
   "source": [
    "## 문제\n",
    "세 개의 자연수 A, B, C가 주어진다. 이 때, A부터 B까지 숫자 중에서 C의 배수의 개수를 출력하는 프로그램을 작성하시오.\n",
    "\n",
    "예를 들어, A = 3, B = 9, C = 2 라고 하자. 그러면 3부터 9까지 숫자 중 2의 배수의 개수이므로 4, 6, 8 총 3개가 존재한다. 따라서 3을 출력한다.\n",
    "\n",
    "또한, A = 10, B = 3, C = 4라고 하자. 그러면 10에서 3까지 숫자 중 4의 배수의 개수이므로 4, 8 총 2개가 존재한다. 따라서 2를 출력한다.\n",
    "\n",
    "\n",
    "### 입력\n",
    "첫 번째 줄에 A, B, C가 주어진다. (1 <= A, B, C <= 1000)\n",
    "\n",
    "### 출력\n",
    "A부터 B까지 숫자 중에서 C의 배수의 개수를 출력한다.\n",
    "\n",
    "### 예제 입력\n",
    "1. 3 9 2\n",
    "2. 10 3 4\n",
    "3. 1 10 1\n",
    "4. 10 10 9\n",
    "\n",
    "### 예제 출력\n",
    "1. 3\n",
    "2. 2\n",
    "3. 10\n",
    "4. 0"
   ]
  },
  {
   "cell_type": "code",
   "execution_count": 1,
   "metadata": {},
   "outputs": [
    {
     "name": "stdout",
     "output_type": "stream",
     "text": [
      "10 10 9\n",
      "0\n"
     ]
    }
   ],
   "source": [
    "a,b,c = map(int,input().split())\n",
    "n = 0\n",
    "if a>b:\n",
    "  for i in range(b,a+1):\n",
    "    if i % c == 0:\n",
    "      n += 1\n",
    "else:\n",
    "  for i in range(a,b+1):\n",
    "    if i % c == 0:\n",
    "      n += 1\n",
    "print(n)"
   ]
  },
  {
   "cell_type": "code",
   "execution_count": null,
   "metadata": {},
   "outputs": [],
   "source": []
  }
 ],
 "metadata": {
  "kernelspec": {
   "display_name": "Python 3",
   "language": "python",
   "name": "python3"
  },
  "language_info": {
   "codemirror_mode": {
    "name": "ipython",
    "version": 3
   },
   "file_extension": ".py",
   "mimetype": "text/x-python",
   "name": "python",
   "nbconvert_exporter": "python",
   "pygments_lexer": "ipython3",
   "version": "3.8.3"
  }
 },
 "nbformat": 4,
 "nbformat_minor": 4
}
