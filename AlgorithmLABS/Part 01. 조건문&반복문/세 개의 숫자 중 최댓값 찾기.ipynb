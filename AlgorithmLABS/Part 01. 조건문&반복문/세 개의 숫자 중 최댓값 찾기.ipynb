{
 "cells": [
  {
   "cell_type": "markdown",
   "metadata": {},
   "source": [
    "## 문제\n",
    "3 개의 정수가 주어질 때, 이 중 최댓값을 찾는 프로그램을 작성하여라.\n",
    "\n",
    "### 입력\n",
    "첫째 줄에 3개의 정수a,b,c 가 주어진다. (0≤a,b,c≤10,000)\n",
    "\n",
    "### 출력\n",
    "첫째 줄에 a,b,c 중 최댓값을 출력한다.\n",
    "\n",
    "### 예제 입력\n",
    "1. 10 2 5\n",
    "2. 3 7 7\n",
    "\n",
    "### 예제 출력\n",
    "1. 10\n",
    "2. 7\n"
   ]
  },
  {
   "cell_type": "code",
   "execution_count": 1,
   "metadata": {},
   "outputs": [
    {
     "name": "stdout",
     "output_type": "stream",
     "text": [
      "3 7 7\n",
      "7\n"
     ]
    }
   ],
   "source": [
    "a = list(map(int,input().split()))\n",
    "print(max(a))"
   ]
  },
  {
   "cell_type": "code",
   "execution_count": null,
   "metadata": {},
   "outputs": [],
   "source": []
  }
 ],
 "metadata": {
  "kernelspec": {
   "display_name": "Python 3",
   "language": "python",
   "name": "python3"
  },
  "language_info": {
   "codemirror_mode": {
    "name": "ipython",
    "version": 3
   },
   "file_extension": ".py",
   "mimetype": "text/x-python",
   "name": "python",
   "nbconvert_exporter": "python",
   "pygments_lexer": "ipython3",
   "version": "3.8.3"
  }
 },
 "nbformat": 4,
 "nbformat_minor": 4
}
