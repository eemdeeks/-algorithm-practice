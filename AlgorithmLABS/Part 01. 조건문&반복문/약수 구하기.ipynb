{
 "cells": [
  {
   "cell_type": "markdown",
   "metadata": {},
   "source": [
    "## 문제\n",
    "어떤 자연수 p와 q가 있을 때, 만일 p를 q로 나누었을 때 나머지가 0이면 q는 p의 약수이다. 6을 예로 들면\n",
    "\n",
    "- 6 ÷ 1 = 6 … 0\n",
    "- 6 ÷ 2 = 3 … 0\n",
    "- 6 ÷ 3 = 2 … 0\n",
    "- 6 ÷ 4 = 1 … 2\n",
    "- 6 ÷ 5 = 1 … 1\n",
    "- 6 ÷ 6 = 1 … 0\n",
    "\n",
    "그래서 6의 약수는 1, 2, 3, 6, 총 네 개이다. 두 개의 자연수 N과 K가 주어졌을 때, N의 약수들 중 K번째로 작은 수를 출력하는 프로그램을 작성하시오.\n",
    "\n",
    "### 입력\n",
    "첫째 줄에 N과 K가 빈칸을 사이에 두고 주어진다. N은 1 이상 10,000 이하이다. K는 1 이상 N 이하이다.\n",
    "\n",
    "### 출력\n",
    "첫째 줄에 N의 약수들 중 K번째로 작은 수를 출력한다. 만일 N의 약수의 개수가 K개보다 적어서 K번째 약수가 존재하지 않을 경우에는 0을 출력하시오.\n",
    "\n",
    "### 예제 입력\n",
    "- 6 3\n",
    "\n",
    "### 예제 출력\n",
    "- 3\n"
   ]
  },
  {
   "cell_type": "code",
   "execution_count": 1,
   "metadata": {},
   "outputs": [
    {
     "name": "stdout",
     "output_type": "stream",
     "text": [
      "6 3\n",
      "3\n"
     ]
    }
   ],
   "source": [
    "a,b = map(int,input().split())\n",
    "n = 0\n",
    "flag = 0\n",
    "for i in range(1,a):\n",
    "  if a % i ==0:\n",
    "    n+=1\n",
    "    if n == b:\n",
    "      print(i)\n",
    "      flag = 1\n",
    "if flag == 0:\n",
    "  print(\"0\")"
   ]
  },
  {
   "cell_type": "code",
   "execution_count": null,
   "metadata": {},
   "outputs": [],
   "source": []
  }
 ],
 "metadata": {
  "kernelspec": {
   "display_name": "Python 3",
   "language": "python",
   "name": "python3"
  },
  "language_info": {
   "codemirror_mode": {
    "name": "ipython",
    "version": 3
   },
   "file_extension": ".py",
   "mimetype": "text/x-python",
   "name": "python",
   "nbconvert_exporter": "python",
   "pygments_lexer": "ipython3",
   "version": "3.8.3"
  }
 },
 "nbformat": 4,
 "nbformat_minor": 4
}
