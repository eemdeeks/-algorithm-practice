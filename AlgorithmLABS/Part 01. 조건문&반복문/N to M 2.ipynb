{
 "cells": [
  {
   "cell_type": "markdown",
   "metadata": {},
   "source": [
    "## 문제\n",
    "N부터 M까지 출력하는 프로그램을 작성해보자.\n",
    "\n",
    "### 입력\n",
    "첫째 줄에 자연수 N과 자연수 M이 공백을 가지고 주어진다. (N ≤ M ≤ 1,000)\n",
    "\n",
    "### 출력\n",
    "첫째 줄에 N부터 M까지의 자연수를 공백을 사이에 두고 차례대로 출력한다. (단, 한 줄에 최대 8개씩 출력해야 한다.)\n",
    "\n",
    "### 예제 입력\n",
    "1. 1 7\n",
    "2. 500 512\n",
    "\n",
    "### 예제 출력\n",
    "1. 1 2 3 4 5 6 7\n",
    "2. 500 501 502 503 504 505 506 507  \n",
    "   508 509 510 511 512\n"
   ]
  },
  {
   "cell_type": "code",
   "execution_count": 1,
   "metadata": {},
   "outputs": [
    {
     "name": "stdout",
     "output_type": "stream",
     "text": [
      "500 512\n",
      "500 501 502 503 504 505 506 507 \n",
      "508 509 510 511 512 "
     ]
    }
   ],
   "source": [
    "a,b = map(int,input().split())\n",
    "flag = 0\n",
    "for i in range(a,b+1):\n",
    "  print(i,end=' ')\n",
    "  flag += 1\n",
    "  if flag == 8:\n",
    "    flag = 0\n",
    "    print()\n",
    "    "
   ]
  },
  {
   "cell_type": "code",
   "execution_count": null,
   "metadata": {},
   "outputs": [],
   "source": []
  }
 ],
 "metadata": {
  "kernelspec": {
   "display_name": "Python 3",
   "language": "python",
   "name": "python3"
  },
  "language_info": {
   "codemirror_mode": {
    "name": "ipython",
    "version": 3
   },
   "file_extension": ".py",
   "mimetype": "text/x-python",
   "name": "python",
   "nbconvert_exporter": "python",
   "pygments_lexer": "ipython3",
   "version": "3.8.3"
  }
 },
 "nbformat": 4,
 "nbformat_minor": 4
}
