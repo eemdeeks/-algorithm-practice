{
 "cells": [
  {
   "cell_type": "markdown",
   "metadata": {},
   "source": [
    "## 문제\n",
    "자연수n이 주어질 때, n 이 소수인지 판별하는 프로그램을 작성하여라. 여기서 소수란, 약수가 1과 자기자신밖에 존재하지 않는 수를 말한다.\n",
    "\n",
    "### 입력\n",
    "첫째 줄에 자연수 n이 주어진다. (2≤n≤20,000)\n",
    "\n",
    "### 출력\n",
    "첫째 줄에 n이 소수이면 YES, 소수가 아니면 NO를 출력한다.\n",
    "\n",
    "### 예제 입력\n",
    "1. 2\n",
    "2. 15847\n",
    "3. 13\n",
    "\n",
    "### 예제 출력\n",
    "1. YES\n",
    "2. NO\n",
    "3. YES\n"
   ]
  },
  {
   "cell_type": "code",
   "execution_count": 1,
   "metadata": {},
   "outputs": [
    {
     "name": "stdout",
     "output_type": "stream",
     "text": [
      "13\n",
      "YES\n"
     ]
    }
   ],
   "source": [
    "n = int(input())\n",
    "flag = 0\n",
    "for i in range(2,n):\n",
    "  if n % i == 0:\n",
    "    flag = 1\n",
    "if flag == 0:\n",
    "  print(\"YES\")\n",
    "else:\n",
    "  print(\"NO\")"
   ]
  },
  {
   "cell_type": "code",
   "execution_count": null,
   "metadata": {},
   "outputs": [],
   "source": []
  }
 ],
 "metadata": {
  "kernelspec": {
   "display_name": "Python 3",
   "language": "python",
   "name": "python3"
  },
  "language_info": {
   "codemirror_mode": {
    "name": "ipython",
    "version": 3
   },
   "file_extension": ".py",
   "mimetype": "text/x-python",
   "name": "python",
   "nbconvert_exporter": "python",
   "pygments_lexer": "ipython3",
   "version": "3.8.3"
  }
 },
 "nbformat": 4,
 "nbformat_minor": 4
}
