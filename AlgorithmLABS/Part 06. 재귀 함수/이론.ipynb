{
 "cells": [
  {
   "cell_type": "markdown",
   "id": "cc44a49e",
   "metadata": {},
   "source": [
    "## 함수\n",
    "- 값을 입력받아 특정 연산을 수행하여 결과를 반환\n",
    "\n",
    "- 함수의 기본형태 (반환 형, 함수 이름, 인자, 값 반환)\n",
    "\n",
    "- 스코프는 함수간 작업의 완벽한 분담을 위해 존재한다.\n",
    "\n",
    "- 의미단위의 프로그래밍을 해야한다. (문제 해결을 위해 어떤 일을 하는 함수가 필요한지를 설계)\n"
   ]
  },
  {
   "cell_type": "code",
   "execution_count": 3,
   "id": "994ebd72",
   "metadata": {},
   "outputs": [],
   "source": [
    "### 함수의 기본 형태\n",
    "def function(x):\n",
    "    return x"
   ]
  },
  {
   "cell_type": "code",
   "execution_count": 4,
   "id": "3eaa48d6",
   "metadata": {},
   "outputs": [],
   "source": [
    "### 작은 값 출력하는 함수 에제\n",
    "def getMin(first, second):\n",
    "    if first < second:\n",
    "        return first\n",
    "    else:\n",
    "        return second"
   ]
  },
  {
   "cell_type": "markdown",
   "id": "a1a7e68e",
   "metadata": {},
   "source": [
    "## 재귀 함수\n",
    "- 자기 자신을 부르는 함수"
   ]
  },
  {
   "cell_type": "code",
   "execution_count": 1,
   "id": "80018399",
   "metadata": {},
   "outputs": [],
   "source": [
    "### 재귀함수가 의미있는 예제\n",
    "def factorial(n):\n",
    "    if n == 0:\n",
    "        return 1\n",
    "    else:\n",
    "        return n * factorial(n-1)"
   ]
  },
  {
   "cell_type": "code",
   "execution_count": null,
   "id": "e89832db",
   "metadata": {},
   "outputs": [],
   "source": []
  }
 ],
 "metadata": {
  "kernelspec": {
   "display_name": "Python 3 (ipykernel)",
   "language": "python",
   "name": "python3"
  },
  "language_info": {
   "codemirror_mode": {
    "name": "ipython",
    "version": 3
   },
   "file_extension": ".py",
   "mimetype": "text/x-python",
   "name": "python",
   "nbconvert_exporter": "python",
   "pygments_lexer": "ipython3",
   "version": "3.8.9"
  }
 },
 "nbformat": 4,
 "nbformat_minor": 5
}
