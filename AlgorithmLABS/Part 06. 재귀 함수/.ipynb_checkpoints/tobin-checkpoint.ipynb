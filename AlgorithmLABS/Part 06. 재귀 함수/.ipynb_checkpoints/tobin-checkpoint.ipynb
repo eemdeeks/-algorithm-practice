{
 "cells": [
  {
   "cell_type": "markdown",
   "id": "ebf1d52c",
   "metadata": {},
   "source": [
    "## 문제\n",
    "두 정수 n, k를 입력받아 k개의 1을 가진 n자리 이진 패턴을 출력하는 프로그램을 작성하세요.\n",
    "\n",
    " \n",
    "\n",
    "## 입력\n",
    "두 정수 n, k가 입력으로 주어진다. ( 0 < n <= 30, 0 <= k < 8 , n >= k )\n",
    "\n",
    " \n",
    "\n",
    "## 출력\n",
    "결과를 내림차순으로 출력한다.\n",
    "\n",
    "\n",
    "\n",
    "### 예제 입력1\n",
    "2 1\n",
    "\n",
    "### 예제 출력1\n",
    "10  \n",
    "01\n",
    "\n",
    "### 예제 입력2\n",
    "2 0\n",
    "\n",
    "### 예제 출력2\n",
    "00"
   ]
  },
  {
   "cell_type": "code",
   "execution_count": 2,
   "id": "266fa9f3",
   "metadata": {},
   "outputs": [
    {
     "name": "stdout",
     "output_type": "stream",
     "text": [
      "4 2\n",
      "1100\n",
      "1010\n",
      "1001\n",
      "0110\n",
      "0101\n",
      "0011\n"
     ]
    }
   ],
   "source": [
    "## 시간초과\n",
    "n,k = map(int,input().split())\n",
    "result = []\n",
    "for i in range(n):\n",
    "    result.append(0)\n",
    "def getResult(x,r):\n",
    "    global result\n",
    "    global n\n",
    "    global k\n",
    "    if x>=r:\n",
    "        if sum(result) == k:\n",
    "            for i in result:\n",
    "                print(i,end='')\n",
    "            print()\n",
    "    else:\n",
    "        for i in range(1,-1,-1):\n",
    "            result[x] = i\n",
    "            getResult(x+1,r)\n",
    "getResult(0,n)\n",
    "\n"
   ]
  },
  {
   "cell_type": "code",
   "execution_count": 3,
   "id": "0b36ac00",
   "metadata": {},
   "outputs": [
    {
     "name": "stdout",
     "output_type": "stream",
     "text": [
      "4 2\n",
      "1100\n",
      "1010\n",
      "1001\n",
      "0110\n",
      "0101\n",
      "0011\n"
     ]
    }
   ],
   "source": [
    "## 정답\n",
    "n,k = map(int,input().split())\n",
    "result = []\n",
    "cnt=0\n",
    "for i in range(n):\n",
    "    result.append(0)\n",
    "def getResult(x):\n",
    "    global result\n",
    "    global n\n",
    "    global k\n",
    "    global cnt\n",
    "    if x>=k:\n",
    "        for i in result:\n",
    "            print(i,end='')\n",
    "        print()\n",
    "    else:\n",
    "        for i in range(cnt,n,1):\n",
    "            result[i] = 1\n",
    "            cnt=i+1\n",
    "            getResult(x+1)\n",
    "            result[i]=0\n",
    "getResult(0)"
   ]
  },
  {
   "cell_type": "code",
   "execution_count": null,
   "id": "41f18152",
   "metadata": {},
   "outputs": [],
   "source": []
  }
 ],
 "metadata": {
  "kernelspec": {
   "display_name": "Python 3 (ipykernel)",
   "language": "python",
   "name": "python3"
  },
  "language_info": {
   "codemirror_mode": {
    "name": "ipython",
    "version": 3
   },
   "file_extension": ".py",
   "mimetype": "text/x-python",
   "name": "python",
   "nbconvert_exporter": "python",
   "pygments_lexer": "ipython3",
   "version": "3.8.9"
  }
 },
 "nbformat": 4,
 "nbformat_minor": 5
}
