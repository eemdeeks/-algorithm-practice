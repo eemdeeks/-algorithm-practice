{
 "cells": [
  {
   "cell_type": "markdown",
   "id": "d8cf4c64",
   "metadata": {},
   "source": [
    "## 문제\n",
    "임의의 자연수는 그보다 작은 자연수들의 합으로 표현될 수 있다. 예를 들어 4의 경우,\n",
    "\n",
    "4\n",
    "= 3+1\n",
    "= 2+2\n",
    "= 2+1+1\n",
    "= 1+1+1+1\n",
    "\n",
    "위와 같은 방법으로 표현 될 수 있다. 이 때 , 숫자의 구성이 같으면서 그 순서만이 다른 경우는 같은 경우로 생각하는데, 예를 들어 다음 세 가지 경우는 모두 같은 경우이다.\n",
    "\n",
    "2 + 1 + 1, 1 + 2 + 1 , 1 + 1 + 2\n",
    "\n",
    "자연수 n을 입력 받아 이를 n보다 작은 자연수들의 합으로 나타내는 방법을 모두 출력하는 프로그램을 재귀 호출을 사용하여 작성하시오.\n",
    "\n",
    " \n",
    "\n",
    "## 입력\n",
    "첫 줄에 2 이상 20 이하의 자연수 n이 주어진다.\n",
    "\n",
    " \n",
    "\n",
    "## 출력\n",
    "첫째 줄부터 모든 방법을 한 줄에 하나씩 출력한다. 하나의 식 안에는 큰 숫자가 앞으로 오도록 하고, 전체적으로는 앞의 숫자가 큰 식이 먼저 출력되도록 한다. 숫자와 더하기 사이에는 공백이 없다. 그리고 마지막 줄에는 나누어진 자연수의 개수를 출력한다.\n",
    "\n",
    "\n",
    "### 예제 입력\n",
    "5\n",
    "\n",
    "\n",
    "### 예제 출력\n",
    "4+1  \n",
    "3+2  \n",
    "3+1+1  \n",
    "2+2+1  \n",
    "2+1+1+1  \n",
    "1+1+1+1+1  \n",
    "6"
   ]
  },
  {
   "cell_type": "code",
   "execution_count": 20,
   "id": "a11e89b2",
   "metadata": {},
   "outputs": [],
   "source": [
    "cnt = 0\n",
    "def devision(n):\n",
    "    global cnt\n",
    "    result = []\n",
    "    for i in range(n):\n",
    "        result.append(0)\n",
    "    getResult(0,0,result,n)\n",
    "    print(cnt)\n",
    "def getResult(mySum, index, result,n):\n",
    "    ### 현재까지 구한 합이 mySum이다.\n",
    "    ### 그리고 지금, index번째 숫자를 결정할 차례. 즉, result[index]\n",
    "    global cnt\n",
    "    if mySum == n:\n",
    "        for i in range(index):\n",
    "            if i == index-1:\n",
    "                print(result[i],end='')\n",
    "            else:\n",
    "                print(result[i],end='+')\n",
    "        print()\n",
    "        cnt+=1\n",
    "    else:\n",
    "        if(index == 0):\n",
    "            myNumber = n-1\n",
    "        else:\n",
    "            myNumber = n - mySum\n",
    "        \n",
    "        for i in range(myNumber,0,-1):\n",
    "            result[index] = i\n",
    "            \n",
    "            if index>0 and result[index-1] < result[index]:\n",
    "                continue;\n",
    "            getResult(mySum+i, index +1, result,n)"
   ]
  },
  {
   "cell_type": "code",
   "execution_count": 21,
   "id": "7a4eed17",
   "metadata": {},
   "outputs": [
    {
     "name": "stdout",
     "output_type": "stream",
     "text": [
      "3+1\n",
      "2+2\n",
      "2+1+1\n",
      "1+1+1+1\n",
      "4\n"
     ]
    }
   ],
   "source": [
    "devision(4)"
   ]
  },
  {
   "cell_type": "code",
   "execution_count": null,
   "id": "3c26b751",
   "metadata": {},
   "outputs": [],
   "source": []
  }
 ],
 "metadata": {
  "kernelspec": {
   "display_name": "Python 3 (ipykernel)",
   "language": "python",
   "name": "python3"
  },
  "language_info": {
   "codemirror_mode": {
    "name": "ipython",
    "version": 3
   },
   "file_extension": ".py",
   "mimetype": "text/x-python",
   "name": "python",
   "nbconvert_exporter": "python",
   "pygments_lexer": "ipython3",
   "version": "3.8.9"
  }
 },
 "nbformat": 4,
 "nbformat_minor": 5
}
