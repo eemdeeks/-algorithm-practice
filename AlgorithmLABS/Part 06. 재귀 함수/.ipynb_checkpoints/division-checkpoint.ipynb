{
 "cells": [
  {
   "cell_type": "code",
   "execution_count": 20,
   "id": "a11e89b2",
   "metadata": {},
   "outputs": [],
   "source": [
    "cnt = 0\n",
    "def devision(n):\n",
    "    global cnt\n",
    "    result = []\n",
    "    for i in range(n):\n",
    "        result.append(0)\n",
    "    getResult(0,0,result,n)\n",
    "    print(cnt)\n",
    "def getResult(mySum, index, result,n):\n",
    "    ### 현재까지 구한 합이 mySum이다.\n",
    "    ### 그리고 지금, index번째 숫자를 결정할 차례. 즉, result[index]\n",
    "    global cnt\n",
    "    if mySum == n:\n",
    "        for i in range(index):\n",
    "            if i == index-1:\n",
    "                print(result[i],end='')\n",
    "            else:\n",
    "                print(result[i],end='+')\n",
    "        print()\n",
    "        cnt+=1\n",
    "    else:\n",
    "        if(index == 0):\n",
    "            myNumber = n-1\n",
    "        else:\n",
    "            myNumber = n - mySum\n",
    "        \n",
    "        for i in range(myNumber,0,-1):\n",
    "            result[index] = i\n",
    "            \n",
    "            if index>0 and result[index-1] < result[index]:\n",
    "                continue;\n",
    "            getResult(mySum+i, index +1, result,n)"
   ]
  },
  {
   "cell_type": "code",
   "execution_count": 21,
   "id": "7a4eed17",
   "metadata": {},
   "outputs": [
    {
     "name": "stdout",
     "output_type": "stream",
     "text": [
      "3+1\n",
      "2+2\n",
      "2+1+1\n",
      "1+1+1+1\n",
      "4\n"
     ]
    }
   ],
   "source": [
    "devision(4)"
   ]
  },
  {
   "cell_type": "code",
   "execution_count": null,
   "id": "3c26b751",
   "metadata": {},
   "outputs": [],
   "source": []
  }
 ],
 "metadata": {
  "kernelspec": {
   "display_name": "Python 3 (ipykernel)",
   "language": "python",
   "name": "python3"
  },
  "language_info": {
   "codemirror_mode": {
    "name": "ipython",
    "version": 3
   },
   "file_extension": ".py",
   "mimetype": "text/x-python",
   "name": "python",
   "nbconvert_exporter": "python",
   "pygments_lexer": "ipython3",
   "version": "3.8.9"
  }
 },
 "nbformat": 4,
 "nbformat_minor": 5
}
