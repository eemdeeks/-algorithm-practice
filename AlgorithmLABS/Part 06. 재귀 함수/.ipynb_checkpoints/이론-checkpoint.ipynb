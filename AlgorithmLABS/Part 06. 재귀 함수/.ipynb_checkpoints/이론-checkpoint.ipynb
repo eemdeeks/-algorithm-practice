{
 "cells": [
  {
   "cell_type": "markdown",
   "id": "cc44a49e",
   "metadata": {},
   "source": [
    "## 함수\n",
    "- 값을 입력받아 특정 연산을 수행하여 결과를 반환"
   ]
  },
  {
   "cell_type": "code",
   "execution_count": 3,
   "id": "994ebd72",
   "metadata": {},
   "outputs": [],
   "source": [
    "### 함수의 기본 형태\n",
    "def function(x):\n",
    "    return x"
   ]
  },
  {
   "cell_type": "code",
   "execution_count": 4,
   "id": "3eaa48d6",
   "metadata": {},
   "outputs": [],
   "source": [
    "### 작은 값 출력하는 함수 에제\n",
    "def getMin(first, second):\n",
    "    if first < second:\n",
    "        return first\n",
    "    else:\n",
    "        return second"
   ]
  },
  {
   "cell_type": "markdown",
   "id": "a1a7e68e",
   "metadata": {},
   "source": [
    "## 재귀 함수\n"
   ]
  },
  {
   "cell_type": "code",
   "execution_count": null,
   "id": "80018399",
   "metadata": {},
   "outputs": [],
   "source": []
  }
 ],
 "metadata": {
  "kernelspec": {
   "display_name": "Python 3 (ipykernel)",
   "language": "python",
   "name": "python3"
  },
  "language_info": {
   "codemirror_mode": {
    "name": "ipython",
    "version": 3
   },
   "file_extension": ".py",
   "mimetype": "text/x-python",
   "name": "python",
   "nbconvert_exporter": "python",
   "pygments_lexer": "ipython3",
   "version": "3.8.9"
  }
 },
 "nbformat": 4,
 "nbformat_minor": 5
}
