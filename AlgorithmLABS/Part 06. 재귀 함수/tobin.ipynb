{
 "cells": [
  {
   "cell_type": "code",
   "execution_count": 7,
   "id": "266fa9f3",
   "metadata": {},
   "outputs": [
    {
     "name": "stdout",
     "output_type": "stream",
     "text": [
      "4 2\n",
      "1100\n",
      "1010\n",
      "1001\n",
      "0110\n",
      "0101\n",
      "0011\n"
     ]
    }
   ],
   "source": [
    "n,k = map(int,input().split())\n",
    "result = []\n",
    "for i in range(n):\n",
    "    result.append(0)\n",
    "def getResult(x,r):\n",
    "    global result\n",
    "    global n\n",
    "    global k\n",
    "    if x>=r:\n",
    "        if sum(result) == k:\n",
    "            for i in result:\n",
    "                print(i,end='')\n",
    "            print()\n",
    "    else:\n",
    "        for i in range(1,-1,-1):\n",
    "            result[x] = i\n",
    "            getResult(x+1,r)\n",
    "getResult(0,n)\n",
    "\n"
   ]
  },
  {
   "cell_type": "code",
   "execution_count": null,
   "id": "0b36ac00",
   "metadata": {},
   "outputs": [],
   "source": []
  }
 ],
 "metadata": {
  "kernelspec": {
   "display_name": "Python 3 (ipykernel)",
   "language": "python",
   "name": "python3"
  },
  "language_info": {
   "codemirror_mode": {
    "name": "ipython",
    "version": 3
   },
   "file_extension": ".py",
   "mimetype": "text/x-python",
   "name": "python",
   "nbconvert_exporter": "python",
   "pygments_lexer": "ipython3",
   "version": "3.8.9"
  }
 },
 "nbformat": 4,
 "nbformat_minor": 5
}
