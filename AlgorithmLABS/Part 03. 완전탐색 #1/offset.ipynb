{
 "cells": [
  {
   "cell_type": "markdown",
   "metadata": {},
   "source": [
    "### 문제\n",
    "5x5 2차원 배열이 주어질 때 어떤 원소가 상하좌우에 있는 원소보다 작을 때 해당 위치에 * 을 표시하는 프로그램을 작성하시오. 경계선에 있는 수는 상하좌우 중 존재하는 원소만을 비교한다.\n",
    "\n",
    " \n",
    "\n",
    "### 입력\n",
    "5x5 행렬의 정보가 25 개의 수로 주어진다. 각 수는 0 에서 9 사이 수이다.\n",
    "\n",
    " \n",
    "\n",
    "### 출력\n",
    "\"*\"를 포함한 행렬을 출력예의 형식으로 출력한다.\n",
    "\n",
    "\n",
    "### 예제 입력\n",
    "    3 4 1 4 9  \n",
    "    2 9 4 5 8  \n",
    "    9 0 8 2 1  \n",
    "    7 0 2 8 4  \n",
    "    2 7 2 1 4  \n",
    "\n",
    "### 예제 출력\n",
    "    3 4 * 4 9  \n",
    "    * 9 4 5 8  \n",
    "    9 0 8 2 *  \n",
    "    7 0 2 8 4  \n",
    "    * 7 2 * 4  \n"
   ]
  },
  {
   "cell_type": "code",
   "execution_count": 1,
   "metadata": {},
   "outputs": [
    {
     "name": "stdout",
     "output_type": "stream",
     "text": [
      "3 4 1 4 9\n",
      "2 9 4 5 8\n",
      "9 0 8 2 1\n",
      "7 0 2 8 4\n",
      "2 7 2 1 4\n",
      "3 4 * 4 9 \n",
      "* 9 4 5 8 \n",
      "9 0 8 2 * \n",
      "7 0 2 8 4 \n",
      "* 7 2 * 4 \n"
     ]
    }
   ],
   "source": [
    "ls = [[]]\n",
    "for i in range(7):\n",
    "  ls[0].append(10)\n",
    "for i in range(1,6):\n",
    "  ls.append(list(map(int,input().split())))\n",
    "  ls[i].insert(0,10)\n",
    "  ls[i].append(10)\n",
    "ls.append([10,10,10,10,10,10,10])\n",
    "for i in range(1,6):\n",
    "  for j in range(1,6):\n",
    "    if ls[i][j] < ls[i-1][j] and ls[i][j]<ls[i+1][j] and ls[i][j]<ls[i][j+1] and ls[i][j]<ls[i][j-1]:\n",
    "      print(\"*\",end=' ')\n",
    "    else:\n",
    "      print(ls[i][j],end=' ')\n",
    "  print()"
   ]
  },
  {
   "cell_type": "code",
   "execution_count": null,
   "metadata": {},
   "outputs": [],
   "source": []
  }
 ],
 "metadata": {
  "kernelspec": {
   "display_name": "Python 3",
   "language": "python",
   "name": "python3"
  },
  "language_info": {
   "codemirror_mode": {
    "name": "ipython",
    "version": 3
   },
   "file_extension": ".py",
   "mimetype": "text/x-python",
   "name": "python",
   "nbconvert_exporter": "python",
   "pygments_lexer": "ipython3",
   "version": "3.8.3"
  }
 },
 "nbformat": 4,
 "nbformat_minor": 4
}
