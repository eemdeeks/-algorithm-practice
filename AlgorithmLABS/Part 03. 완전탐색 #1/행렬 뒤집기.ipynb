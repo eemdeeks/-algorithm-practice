{
 "cells": [
  {
   "cell_type": "markdown",
   "metadata": {},
   "source": [
    "### 문제\n",
    "뒤집기 게임의 룰은 다음과 같다.\n",
    "\n",
    "1. 뒤집기 게임을 진행할 맵과 뒤집기 횟수 N이 주어진다. 이때 맵은 10×10정삭각형 모양의 2차원 배열 형태이면 모든 원소들이 0으로 되어있는 상태이다.\n",
    "2. 뒤집기 행위는 뒤집을 원소가 1이면 0으로 만들고, 0이면 1로 만든다는 뜻이다.\n",
    "3. 첫번째 뒤집을 때는 1행의 원소들과 1열의 원소들을 모두 뒤집는다. 두번째 뒤집을 때는 2행의 원소들과 2열의 원소들을 모두 뒤집는다. 마찬가지로 i번째 뒤집을 때는 i행의 원소들과 i열의 원소들을 모두 뒤집는다. 이렇게 총 N번의 뒤집기를 한다. (행과 열의 번호는 1번부터 시작한다.)\n",
    "\n",
    "N이 주어졌을 때 뒤집기 게임을 모두 시행하고 난 뒤의 맵을 출력하는 프로그램을 작성해보자\n",
    "\n",
    "### 입력\n",
    "입력 첫째 줄에는 뒤집을 횟수 N이 주어진다. N은 10 이하의 자연수이다.  \n",
    "\n",
    "### 출력\n",
    "뒤집기 게임을 하고난 뒤의 맵의 상태를 출력한다. ( 맵은 숫자 사이에 공백을 두고 출력한다.)\n",
    "\n",
    "### 예제 입력1\n",
    "1\n",
    "\n",
    "### 예제 출력1\n",
    "1 1 1 1 1 1 1 1 1 1  \n",
    "1 0 0 0 0 0 0 0 0 0  \n",
    "1 0 0 0 0 0 0 0 0 0  \n",
    "1 0 0 0 0 0 0 0 0 0  \n",
    "1 0 0 0 0 0 0 0 0 0  \n",
    "1 0 0 0 0 0 0 0 0 0  \n",
    "1 0 0 0 0 0 0 0 0 0  \n",
    "1 0 0 0 0 0 0 0 0 0  \n",
    "1 0 0 0 0 0 0 0 0 0  \n",
    "1 0 0 0 0 0 0 0 0 0  \n",
    "\n",
    "### 예제 입력2\n",
    "3\n",
    "\n",
    "### 예제 출력2\n",
    "1 0 0 1 1 1 1 1 1 1  \n",
    "0 1 0 1 1 1 1 1 1 1  \n",
    "0 0 1 1 1 1 1 1 1 1  \n",
    "1 1 1 0 0 0 0 0 0 0  \n",
    "1 1 1 0 0 0 0 0 0 0  \n",
    "1 1 1 0 0 0 0 0 0 0  \n",
    "1 1 1 0 0 0 0 0 0 0  \n",
    "1 1 1 0 0 0 0 0 0 0  \n",
    "1 1 1 0 0 0 0 0 0 0  \n",
    "1 1 1 0 0 0 0 0 0 0  \n"
   ]
  },
  {
   "cell_type": "code",
   "execution_count": 1,
   "metadata": {},
   "outputs": [
    {
     "name": "stdout",
     "output_type": "stream",
     "text": [
      "5\n",
      "1 0 0 0 0 1 1 1 1 1 \n",
      "0 1 0 0 0 1 1 1 1 1 \n",
      "0 0 1 0 0 1 1 1 1 1 \n",
      "0 0 0 1 0 1 1 1 1 1 \n",
      "0 0 0 0 1 1 1 1 1 1 \n",
      "1 1 1 1 1 0 0 0 0 0 \n",
      "1 1 1 1 1 0 0 0 0 0 \n",
      "1 1 1 1 1 0 0 0 0 0 \n",
      "1 1 1 1 1 0 0 0 0 0 \n",
      "1 1 1 1 1 0 0 0 0 0 \n"
     ]
    }
   ],
   "source": [
    "n = int(input())\n",
    "ls = []\n",
    "for i in range(10):\n",
    "  ls.append([])\n",
    "  for j in range(10):\n",
    "    ls[i].append(0)\n",
    "\n",
    "for i in range(n):\n",
    "  row = 0\n",
    "  col = 0\n",
    "  for j in ls[i]:\n",
    "    if j == 0:\n",
    "      ls[i][col] = 1\n",
    "    else:\n",
    "      ls[i][col] = 0\n",
    "    col+=1\n",
    "  for j in ls:\n",
    "    if j[i] == 0:\n",
    "      ls[row][i] = 1\n",
    "    else:\n",
    "      ls[row][i] = 0\n",
    "    row += 1\n",
    "  if ls[i][i] == 0:\n",
    "    ls[i][i] = 1\n",
    "  else:\n",
    "    ls[i][i] = 0\n",
    "    \n",
    "for i in ls:\n",
    "  for j in i:\n",
    "    print(j,end=' ')\n",
    "  print()"
   ]
  },
  {
   "cell_type": "code",
   "execution_count": null,
   "metadata": {},
   "outputs": [],
   "source": []
  }
 ],
 "metadata": {
  "kernelspec": {
   "display_name": "Python 3",
   "language": "python",
   "name": "python3"
  },
  "language_info": {
   "codemirror_mode": {
    "name": "ipython",
    "version": 3
   },
   "file_extension": ".py",
   "mimetype": "text/x-python",
   "name": "python",
   "nbconvert_exporter": "python",
   "pygments_lexer": "ipython3",
   "version": "3.8.3"
  }
 },
 "nbformat": 4,
 "nbformat_minor": 4
}
