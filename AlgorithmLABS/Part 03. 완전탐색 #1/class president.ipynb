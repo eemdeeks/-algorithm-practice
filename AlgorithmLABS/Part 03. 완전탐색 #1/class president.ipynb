{
 "cells": [
  {
   "cell_type": "code",
   "execution_count": 1,
   "metadata": {},
   "outputs": [
    {
     "name": "stdout",
     "output_type": "stream",
     "text": [
      "5\n",
      "2 3 1 7 3\n",
      "4 1 9 6 8\n",
      "5 5 2 4 4\n",
      "6 5 2 6 7\n",
      "8 4 2 2 2\n",
      "4\n"
     ]
    }
   ],
   "source": [
    "n = int(input())\n",
    "ls = []\n",
    "student = []\n",
    "for i in range(n):\n",
    "  ls.append(list(map(int,input().split())))\n",
    "  student.append([])\n",
    "\n",
    "for i in range(n):\n",
    "  for j in range(5):\n",
    "    for k in range(n):\n",
    "      if ls[i][j] == ls[k][j]:\n",
    "        if k in student[i]:\n",
    "          pass\n",
    "        else:\n",
    "          student[i].append(k)\n",
    "  student[i] = len(student[i])\n",
    "\n",
    "print(student.index(max(student))+1)"
   ]
  },
  {
   "cell_type": "code",
   "execution_count": null,
   "metadata": {},
   "outputs": [],
   "source": []
  }
 ],
 "metadata": {
  "kernelspec": {
   "display_name": "Python 3",
   "language": "python",
   "name": "python3"
  },
  "language_info": {
   "codemirror_mode": {
    "name": "ipython",
    "version": 3
   },
   "file_extension": ".py",
   "mimetype": "text/x-python",
   "name": "python",
   "nbconvert_exporter": "python",
   "pygments_lexer": "ipython3",
   "version": "3.8.3"
  }
 },
 "nbformat": 4,
 "nbformat_minor": 4
}
