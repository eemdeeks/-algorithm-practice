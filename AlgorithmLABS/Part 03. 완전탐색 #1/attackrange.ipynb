{
 "cells": [
  {
   "cell_type": "markdown",
   "metadata": {},
   "source": [
    "### 문제\n",
    "윤성이는 어렸을 적부터 수없이 몰려오는 적으로부터 기지를 방어하는 디펜스 유형의 게임을 플레이하는 것을 좋아했다. 그래서 간단한 디펜스 게임을 만들어 보려고 한다.\n",
    "\n",
    "당신은 윤성이를 도와, 디펜스 게임 내에서 플레이어가 설치하는 유닛의 사거리를 나타내는 기능을 구현하면 된다.  \n",
    "\n",
    "\n",
    "### 입력\n",
    "입력 첫째 줄에는 디펜스 게임의 맵 크기 N이 주어딘다. 맵은 N×N 크기의 2차원 형태이다. (N은 6이상 100이하의 짝수)\n",
    "\n",
    "둘째 줄에는 유닛이 설치될 위치 X, Y와 유닛의 사거리 R이 주어진다. X는 행의 번호, Y는 열의 번호를 의미한다. (X, Y는 1이상 N이하의 자연수, R은 N/2이하의 자연수)\n",
    "\n",
    "### 출력\n",
    "예제 출력과 같이 유닛의 사거리를 나타내어 출력한다. (유닛의 사거리가 아무리 길어도 맵을 벗어날 수는 없다.)\n",
    "\n",
    "\n",
    "### 예제 입력1\n",
    "8 \n",
    "4 5 3  \n",
    "\n",
    "### 예제 출력1\n",
    "0 0 0 0 3 0 0 0  \n",
    "0 0 0 3 2 3 0 0  \n",
    "0 0 3 2 1 2 3 0  \n",
    "0 3 2 1 x 1 2 3  \n",
    "0 0 3 2 1 2 3 0  \n",
    "0 0 0 3 2 3 0 0  \n",
    "0 0 0 0 3 0 0 0  \n",
    "0 0 0 0 0 0 0 0  \n",
    "\n",
    "### 예제 입력2\n",
    "6  \n",
    "2 3 3  \n",
    "\n",
    "### 예제 출력2\n",
    "3 2 1 2 3 0  \n",
    "2 1 x 1 2 3  \n",
    "3 2 1 2 3 0  \n",
    "0 3 2 3 0 0  \n",
    "0 0 3 0 0 0  \n",
    "0 0 0 0 0 0  \n"
   ]
  },
  {
   "cell_type": "code",
   "execution_count": 1,
   "metadata": {},
   "outputs": [
    {
     "name": "stdout",
     "output_type": "stream",
     "text": [
      "6\n",
      "2 3 3\n",
      "3 2 1 2 3 0 \n",
      "2 1 x 1 2 3 \n",
      "3 2 1 2 3 0 \n",
      "0 3 2 3 0 0 \n",
      "0 0 3 0 0 0 \n",
      "0 0 0 0 0 0 \n"
     ]
    }
   ],
   "source": [
    "n = int(input())\n",
    "x,y,r = map(int,input().split())\n",
    "ls = []\n",
    "for i in range(200):\n",
    "  ls.append([])\n",
    "  for j in range(200):\n",
    "    ls[i].append(0)\n",
    "ls[x+50][y+50] = \"x\"\n",
    "\n",
    "for i in range(200):\n",
    "  for j in range(200):\n",
    "    for k in range(1,r+1):\n",
    "      if abs(x+50 - i) + abs(y+50-j) == k:\n",
    "        ls[i][j] = k\n",
    "for i in range(n):\n",
    "  for j in range(n):\n",
    "    print(ls[i+51][j+51],end=' ')\n",
    "  print()"
   ]
  },
  {
   "cell_type": "code",
   "execution_count": null,
   "metadata": {},
   "outputs": [],
   "source": []
  }
 ],
 "metadata": {
  "kernelspec": {
   "display_name": "Python 3",
   "language": "python",
   "name": "python3"
  },
  "language_info": {
   "codemirror_mode": {
    "name": "ipython",
    "version": 3
   },
   "file_extension": ".py",
   "mimetype": "text/x-python",
   "name": "python",
   "nbconvert_exporter": "python",
   "pygments_lexer": "ipython3",
   "version": "3.8.3"
  }
 },
 "nbformat": 4,
 "nbformat_minor": 4
}
