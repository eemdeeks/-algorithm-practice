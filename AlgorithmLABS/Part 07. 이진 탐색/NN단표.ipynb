{
 "cells": [
  {
   "cell_type": "code",
   "execution_count": 6,
   "id": "25040374",
   "metadata": {},
   "outputs": [
    {
     "name": "stdout",
     "output_type": "stream",
     "text": [
      "5\n",
      "-2 4 -99 1 98\n",
      "-99 98\n"
     ]
    }
   ],
   "source": [
    "n = int(input())\n",
    "ls = list(map(int,input().split()))\n",
    "ls.sort()\n",
    "start = 0\n",
    "end = len(ls)-1\n",
    "flag = \"none\"\n",
    "result = ls[end] + ls[start]\n",
    "while start+1 == end:\n",
    "    ad = ls[end] + ls[start]\n",
    "    if abs(result) < abs(ad):\n",
    "        if flag == \"start\":\n",
    "            start-=1\n",
    "        elif flag == \"end\":\n",
    "            end+=1\n",
    "        else:\n",
    "            pass\n",
    "        break\n",
    "    if ad < 0:\n",
    "        flag = \"start\"\n",
    "        start+=1\n",
    "    elif ad == 0:\n",
    "        break\n",
    "    else:\n",
    "        flag = \"end\"\n",
    "        end -= 1\n",
    "print(ls[start],ls[end])"
   ]
  },
  {
   "cell_type": "code",
   "execution_count": 4,
   "id": "d04cc180",
   "metadata": {},
   "outputs": [
    {
     "data": {
      "text/plain": [
       "[-2, 4, -99, 1, 98]"
      ]
     },
     "execution_count": 4,
     "metadata": {},
     "output_type": "execute_result"
    }
   ],
   "source": [
    "ls"
   ]
  },
  {
   "cell_type": "code",
   "execution_count": null,
   "id": "996a7fcb",
   "metadata": {},
   "outputs": [],
   "source": []
  }
 ],
 "metadata": {
  "kernelspec": {
   "display_name": "Python 3 (ipykernel)",
   "language": "python",
   "name": "python3"
  },
  "language_info": {
   "codemirror_mode": {
    "name": "ipython",
    "version": 3
   },
   "file_extension": ".py",
   "mimetype": "text/x-python",
   "name": "python",
   "nbconvert_exporter": "python",
   "pygments_lexer": "ipython3",
   "version": "3.8.9"
  }
 },
 "nbformat": 4,
 "nbformat_minor": 5
}
