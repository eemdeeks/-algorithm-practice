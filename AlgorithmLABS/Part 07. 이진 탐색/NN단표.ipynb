{
 "cells": [
  {
   "cell_type": "markdown",
   "id": "89b27ca6",
   "metadata": {},
   "source": [
    "## 문제\n",
    "알랩이는 구구단표처럼 NN단표를 만들었다고 한다.\n",
    "\n",
    "NN단표는 2차원 배열의 모양으로 곱셈 1단부터 N단까지의 값들을 적어놓은 형태이다.\n",
    "\n",
    "NN단표의 배열을 A라고 했을 때, 배열의 들어가는 수 A[i][j]=i*j이다.(즉, 4행 7열에는 28, 7행 5열에는 35가 들어가 있다.)\n",
    "\n",
    "알랩이는 N단까지 나온 숫자들 중에서 K번째로 작은 수를 찾고 싶어한다.\n",
    "\n",
    "이때, 중복되는 여러 수들을 고려한다. 즉 N*N개의 모든 수들 중에서 K번째 수를 구하는 것이다.  \n",
    "## 입력\n",
    "첫째 줄에 배열의 크기 N이 주어진다. N은 100,000보다 작거나 같은 자연수이다. 둘째 줄에 K가 주어진다. K는 N*N보다 작거나 같은 자연수이다.\n",
    "\n",
    "## 출력\n",
    "K번째 원소를 출력한다.\n",
    "\n",
    "\n",
    "### 예제 입력\n",
    "3 \n",
    "\n",
    "7\n",
    "\n",
    "### 예제 출력\n",
    "6"
   ]
  },
  {
   "cell_type": "code",
   "execution_count": 6,
   "id": "25040374",
   "metadata": {},
   "outputs": [
    {
     "name": "stdout",
     "output_type": "stream",
     "text": [
      "5\n",
      "-2 4 -99 1 98\n",
      "-99 98\n"
     ]
    }
   ],
   "source": [
    "n = int(input())\n",
    "ls = list(map(int,input().split()))\n",
    "ls.sort()\n",
    "start = 0\n",
    "end = len(ls)-1\n",
    "flag = \"none\"\n",
    "result = ls[end] + ls[start]\n",
    "while start+1 == end:\n",
    "    ad = ls[end] + ls[start]\n",
    "    if abs(result) < abs(ad):\n",
    "        if flag == \"start\":\n",
    "            start-=1\n",
    "        elif flag == \"end\":\n",
    "            end+=1\n",
    "        else:\n",
    "            pass\n",
    "        break\n",
    "    if ad < 0:\n",
    "        flag = \"start\"\n",
    "        start+=1\n",
    "    elif ad == 0:\n",
    "        break\n",
    "    else:\n",
    "        flag = \"end\"\n",
    "        end -= 1\n",
    "print(ls[start],ls[end])"
   ]
  },
  {
   "cell_type": "code",
   "execution_count": 4,
   "id": "d04cc180",
   "metadata": {},
   "outputs": [
    {
     "data": {
      "text/plain": [
       "[-2, 4, -99, 1, 98]"
      ]
     },
     "execution_count": 4,
     "metadata": {},
     "output_type": "execute_result"
    }
   ],
   "source": [
    "ls"
   ]
  },
  {
   "cell_type": "code",
   "execution_count": null,
   "id": "996a7fcb",
   "metadata": {},
   "outputs": [],
   "source": []
  }
 ],
 "metadata": {
  "kernelspec": {
   "display_name": "Python 3 (ipykernel)",
   "language": "python",
   "name": "python3"
  },
  "language_info": {
   "codemirror_mode": {
    "name": "ipython",
    "version": 3
   },
   "file_extension": ".py",
   "mimetype": "text/x-python",
   "name": "python",
   "nbconvert_exporter": "python",
   "pygments_lexer": "ipython3",
   "version": "3.8.9"
  }
 },
 "nbformat": 4,
 "nbformat_minor": 5
}
