{
 "cells": [
  {
   "cell_type": "code",
   "execution_count": 8,
   "id": "7c3b2d5d",
   "metadata": {},
   "outputs": [
    {
     "name": "stdout",
     "output_type": "stream",
     "text": [
      "4 7\n",
      "20 15 10 17\n",
      "22\n",
      "7\n",
      "15\n"
     ]
    }
   ],
   "source": [
    "n, m = map(int,input().split())\n",
    "trees = list(map(int,input().split()))\n",
    "start = 0\n",
    "end = max(trees)\n",
    "while start+1<end:\n",
    "    mid = (start+end)//2\n",
    "    tree = 0\n",
    "    for i in trees:\n",
    "        if i > mid:\n",
    "            tree+= (i-mid)\n",
    "    print(tree)\n",
    "    if tree>m:\n",
    "        start = mid\n",
    "    elif tree == m:\n",
    "        start = mid\n",
    "        break\n",
    "    else:\n",
    "        end = mid\n",
    "print(start)"
   ]
  },
  {
   "cell_type": "code",
   "execution_count": 6,
   "id": "125be354",
   "metadata": {},
   "outputs": [
    {
     "data": {
      "text/plain": [
       "15"
      ]
     },
     "execution_count": 6,
     "metadata": {},
     "output_type": "execute_result"
    }
   ],
   "source": [
    "result"
   ]
  },
  {
   "cell_type": "code",
   "execution_count": null,
   "id": "cae209f5",
   "metadata": {},
   "outputs": [],
   "source": []
  }
 ],
 "metadata": {
  "kernelspec": {
   "display_name": "Python 3 (ipykernel)",
   "language": "python",
   "name": "python3"
  },
  "language_info": {
   "codemirror_mode": {
    "name": "ipython",
    "version": 3
   },
   "file_extension": ".py",
   "mimetype": "text/x-python",
   "name": "python",
   "nbconvert_exporter": "python",
   "pygments_lexer": "ipython3",
   "version": "3.8.9"
  }
 },
 "nbformat": 4,
 "nbformat_minor": 5
}
