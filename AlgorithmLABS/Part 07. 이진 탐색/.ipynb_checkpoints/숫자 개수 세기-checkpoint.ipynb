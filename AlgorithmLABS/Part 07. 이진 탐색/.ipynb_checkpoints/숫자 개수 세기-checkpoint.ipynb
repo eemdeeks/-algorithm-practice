{
 "cells": [
  {
   "cell_type": "code",
   "execution_count": 11,
   "id": "3ac35072",
   "metadata": {},
   "outputs": [
    {
     "name": "stdout",
     "output_type": "stream",
     "text": [
      "10 4\n",
      "1 3 4 3 2 3 1 2 5 10\n",
      "1 3 9 10\n",
      "2\n",
      "3\n",
      "0\n",
      "1\n"
     ]
    }
   ],
   "source": [
    "## 입력 값의 갯수가 매우 크기 때문에 완전탐색말고 다른 방법으로 풀기\n",
    "## 정렬 후 알고 싶은 숫자의 첫 인덱스와 마지막 인덱스를 구하면 개수를 알 수 있다.\n",
    "## 첫인덱스와 마지막 인덱스를 binart search를 통해 찾기\n",
    "\n",
    "\n",
    "\n",
    "n, m = map(int,input().split())\n",
    "\n",
    "def getStartPoint(value, data):\n",
    "    \n",
    "    \n",
    "    if data[0]<value: start = 0\n",
    "    else:\n",
    "        if data[0] > value : return -1\n",
    "        else:\n",
    "            return 0\n",
    "    \n",
    "    if data[n-1] >= value : end = n-1;\n",
    "    else:\n",
    "        return -1\n",
    "    \n",
    "    while start+1<end:\n",
    "        mid = (start+end)//2\n",
    "        if data[mid] < value: start = mid\n",
    "        else: end = mid\n",
    "    if data[end] == value: return end\n",
    "    else: return -1\n",
    "\n",
    "def getEndPoint(value, data):\n",
    "    ## start는 value보다 항상 작거나 같은 값을 가리킨다.\n",
    "    ## end는 value보다 항상 큰 값을 가리킨다.\n",
    "    \n",
    "    if data[0]<= value : start = 0\n",
    "    else: return -1\n",
    "    \n",
    "    if data[n-1] > value : end = n-1\n",
    "    else:\n",
    "        if data[n-1]<value : return -1\n",
    "        else: return n-1\n",
    "    while start+1 < end :\n",
    "        mid = (start + end) //2\n",
    "        if data[mid]<=value : start = mid\n",
    "        else: end = mid\n",
    "    if data[start] == value:\n",
    "        return start\n",
    "    else: return -1\n",
    "        \n",
    "data = list(map(int,input().split()))\n",
    "ls = list(map(int,input().split()))\n",
    "data.sort()\n",
    "for i in ls:\n",
    "    \n",
    "    front = getStartPoint(i,data)\n",
    "    rear = getEndPoint(i,data)\n",
    "    \n",
    "    if front == -1 : print(\"0\")\n",
    "    else: print(rear-front+1)\n",
    "        "
   ]
  },
  {
   "cell_type": "markdown",
   "id": "0f3570c0",
   "metadata": {},
   "source": [
    "ls = [3,1,2,4]\n",
    "ls.sort()\n",
    "ls"
   ]
  },
  {
   "cell_type": "code",
   "execution_count": null,
   "id": "73a819cc",
   "metadata": {},
   "outputs": [],
   "source": []
  }
 ],
 "metadata": {
  "kernelspec": {
   "display_name": "Python 3 (ipykernel)",
   "language": "python",
   "name": "python3"
  },
  "language_info": {
   "codemirror_mode": {
    "name": "ipython",
    "version": 3
   },
   "file_extension": ".py",
   "mimetype": "text/x-python",
   "name": "python",
   "nbconvert_exporter": "python",
   "pygments_lexer": "ipython3",
   "version": "3.8.9"
  }
 },
 "nbformat": 4,
 "nbformat_minor": 5
}
