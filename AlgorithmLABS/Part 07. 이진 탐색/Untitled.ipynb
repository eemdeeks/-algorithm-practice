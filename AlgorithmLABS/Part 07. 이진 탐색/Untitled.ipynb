{
 "cells": [
  {
   "cell_type": "markdown",
   "id": "c5e8ea15",
   "metadata": {},
   "source": [
    "## 이진탐색\n",
    "### binary search의 개념과 예제"
   ]
  },
  {
   "cell_type": "markdown",
   "id": "77d5eccb",
   "metadata": {},
   "source": [
    "### Binary Search의 시간복잡도\n",
    "- 정렬되어 있는 숫자들 중에서 특정 숫자를 찾는다.(숫자를 절반씩 지워나가면서 찾는다.\n",
    "- O(log n)\n",
    "- 정렬해야 하면 O(log n) 이 아니라 결국 O(n log n)이 아닌가? -> yes\n",
    "- 이미 배열이 정렬되어 있다면 Binary Search가 효율적임\n",
    "- 숫자 찾기를 엄청 많이 해야하는 경우에는 오히려 정렬을 한 뒤에 Binary Search를 하는 것이 좋음."
   ]
  },
  {
   "cell_type": "markdown",
   "id": "1c4354b4",
   "metadata": {},
   "source": [
    "### Binary Search의 구현\n",
    "#### (Recap) 재귀 함수 디자인의 과정\n",
    "1. 작성하려는 함수의 역할을 말로 명확하게 정의한다.\n",
    "2. 함수가 기저조건에서 제대로 동작하게 작성한다.\n",
    "3. 함수가 제대로 동작한다고 가정하고 함수를 완성한다.\n",
    "4. 함수를 완성한 후, 기저조건으로 수렴함을 보인다.\n"
   ]
  },
  {
   "cell_type": "code",
   "execution_count": 1,
   "id": "08beed59",
   "metadata": {},
   "outputs": [],
   "source": [
    "def binarySearch(array, target, left, right):\n",
    "    middle_idx = (left+right)//2\n",
    "    print(middle_idx)\n",
    "    middle = array[middle_idx]\n",
    "    if target == middle:\n",
    "        print('answer {}'.format(middle_idx))\n",
    "    elif middle > target:\n",
    "        binarySearch(array, target,left,middle_idx-1)\n",
    "    elif middle < target:\n",
    "        binarySearch(array, target,middle_idx+1,right)\n",
    "    else: \n",
    "        return False"
   ]
  },
  {
   "cell_type": "code",
   "execution_count": null,
   "id": "0a56ab8c",
   "metadata": {},
   "outputs": [],
   "source": []
  }
 ],
 "metadata": {
  "kernelspec": {
   "display_name": "Python 3 (ipykernel)",
   "language": "python",
   "name": "python3"
  },
  "language_info": {
   "codemirror_mode": {
    "name": "ipython",
    "version": 3
   },
   "file_extension": ".py",
   "mimetype": "text/x-python",
   "name": "python",
   "nbconvert_exporter": "python",
   "pygments_lexer": "ipython3",
   "version": "3.8.9"
  }
 },
 "nbformat": 4,
 "nbformat_minor": 5
}
