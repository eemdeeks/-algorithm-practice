{
 "cells": [
  {
   "cell_type": "markdown",
   "id": "d8a4ea21",
   "metadata": {},
   "source": [
    "## 문제\n",
    "얼마전에 큰맘 먹고 새로운 절단기를 구입한 목수 윤성이는 나무 M미터가 필요하다.\n",
    "\n",
    "절단기는 다음과 같이 동작한다. 먼저, 윤성이는 절단기에 높이 H를 지정해야 한다. 높이를 지정하면 톱날이 땅으로부터 H미터 위로 올라간다. 그 다음, 한 줄에 연속해있는 나무를 모두 절단해버린다. 따라서, 높이가 H보다 큰 나무는 H 위의 부분이 잘릴 것이고, 낮은 나무는 잘리지 않을 것이다. 예를 들어, 한 줄에 연속해있는 나무의 높이가 20, 15, 10, 17이라고 하자. 상근이가 높이를 15로 지정했다면, 나무를 자른 뒤의 높이는 15, 15, 10, 15가 될 것이고, 윤성이는 길이가 5인 나무와 2인 나무를 들고 집에 갈 것이다. (총 7미터를 집에 들고 간다)\n",
    "\n",
    "목수 윤성이는 과유불급을 좌우명으로 삼고 있기에 나무를 필요한 만큼만 가져가려고 한다. 이때 적어도 M미터의 나무를 가져가기 위해서 절단기에 설정할 수 있는 높이의 최대값을 구하는 프로그램을 작성하라  \n",
    "\n",
    "## 입력\n",
    "첫째 줄에 나무의 수 N과 윤성이가 집으로 가져가려고 하는 나무의 길이 M이 주어진다. (1 ≤ N ≤ 1,000,000, 1 ≤ M ≤ 2,000,000,000)\n",
    "\n",
    "둘째 줄에는 나무의 높이가 주어진다. 나무의 높이의 합은 항상 M을 넘기 때문에, 윤성이는 집에 필요한 나무를 항상 가져갈 수 있다. 높이는 1,000,000,000보다 작거나 같은 자연수이다.  \n",
    "\n",
    "\n",
    "## 출력\n",
    "적어도 M미터의 나무를 집에 가져가기 위해서 절단기에 설정할 수 있는 높이의 최대값을 출력한다.\n",
    "\n",
    "\n",
    "\n",
    "### 예제 입력\n",
    "4 7  \n",
    "20 15 10 17\n",
    "\n",
    "### 예제 출력\n",
    "15"
   ]
  },
  {
   "cell_type": "code",
   "execution_count": 8,
   "id": "7c3b2d5d",
   "metadata": {},
   "outputs": [
    {
     "name": "stdout",
     "output_type": "stream",
     "text": [
      "4 7\n",
      "20 15 10 17\n",
      "22\n",
      "7\n",
      "15\n"
     ]
    }
   ],
   "source": [
    "n, m = map(int,input().split())\n",
    "trees = list(map(int,input().split()))\n",
    "start = 0\n",
    "end = max(trees)\n",
    "while start+1<end:\n",
    "    mid = (start+end)//2\n",
    "    tree = 0\n",
    "    for i in trees:\n",
    "        if i > mid:\n",
    "            tree+= (i-mid)\n",
    "    print(tree)\n",
    "    if tree>m:\n",
    "        start = mid\n",
    "    elif tree == m:\n",
    "        start = mid\n",
    "        break\n",
    "    else:\n",
    "        end = mid\n",
    "print(start)"
   ]
  },
  {
   "cell_type": "code",
   "execution_count": 6,
   "id": "125be354",
   "metadata": {},
   "outputs": [
    {
     "data": {
      "text/plain": [
       "15"
      ]
     },
     "execution_count": 6,
     "metadata": {},
     "output_type": "execute_result"
    }
   ],
   "source": [
    "result"
   ]
  },
  {
   "cell_type": "code",
   "execution_count": null,
   "id": "cae209f5",
   "metadata": {},
   "outputs": [],
   "source": []
  }
 ],
 "metadata": {
  "kernelspec": {
   "display_name": "Python 3 (ipykernel)",
   "language": "python",
   "name": "python3"
  },
  "language_info": {
   "codemirror_mode": {
    "name": "ipython",
    "version": 3
   },
   "file_extension": ".py",
   "mimetype": "text/x-python",
   "name": "python",
   "nbconvert_exporter": "python",
   "pygments_lexer": "ipython3",
   "version": "3.8.9"
  }
 },
 "nbformat": 4,
 "nbformat_minor": 5
}
