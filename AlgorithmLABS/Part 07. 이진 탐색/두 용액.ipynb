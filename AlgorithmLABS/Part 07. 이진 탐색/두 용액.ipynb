{
 "cells": [
  {
   "cell_type": "markdown",
   "id": "d640d29a",
   "metadata": {},
   "source": [
    "## 문제\n",
    "KOI 부설 과학연구소에서는 많은 종류의 산성 용액과 알칼리성 용액을 보유하고 있다. 각 용액에는 그 용액의 특성을 나타내는 하나의 정수가 주어져있다. 산성 용액의 특성값은 1부터 1,000,000,000까지의 양의 정수로 나타내고, 알칼리성 용액의 특성값은 -1부터 -1,000,000,000까지의 음의 정수로 나타낸다. 같은 양의 두 용액을 혼합한 용액의 특성값은 혼합에 사용된 각 용액의 특성값의 합으로 정의한다. 이 연구소에서는 같은 양의 두 용액을 혼합하여 특성값이 0에 가장 가까운 용액을 만들려고 한다. 예를 들어, 주어진 용액들의 특성값이 [-2, 4, -99, -1, 98]인 경우에는 특성값이 -99인 용액과 특성값이 98인 용액을 혼합하면 특성값이 -1인 용액을 만들 수 있고, 이 용액이 특성값이 0에 가장 가까운 용액이다. 참고로, 두 종류의 알칼리성 용액만으로나 혹은 두 종류의 산성 용액만으로 특성값이 0에 가장 가까운 혼합 용액을 만드는 경우도 존재할 수 있다. 산성 용액과 알칼리성 용액의 특성값이 주어졌을 때, 이 중 두 개의 서로 다른 용액을 혼합하여 특성값이 0에 가장 가까운 용액을 만들어내는 두 용액을 찾는 프로그램을 작성하시오.\n",
    "\n",
    "## 입력\n",
    "첫째 줄에는 전체 용액의 수 N이 입력된다. N은 2 이상 100,000 이하이다. 둘째 줄에는 용액의 특성값을 나타내는 N개의 정수가 빈칸을 사이에 두고 주어진다. 이 수들은 모두 -1,000,000,000 이상 1,000,000,000 이하이다. N개의 용액들의 특성값은 모두 다르고, 산성 용액만으로나 알칼리성 용액만으로 입력이 주어지는 경우도 있을 수 있다.  \n",
    "\n",
    "## 출력\n",
    "첫째 줄에 특성값이 0에 가장 가까운 용액을 만들어내는 두 용액의 특성값을 출력한다. 출력해야하는 두 용액은 특성값의 오름차순으로 출력한다. 특성값이 0에 가장 가까운 용액을 만들어내는 경우가 두 개 이상일 경우에는 특성값의 최솟값이 가장 작은 숫자를 출력한다. 해당 경우에서 특성값의 최솟값이 같은 경우는 없다고 가정한다.  \n",
    "\n",
    "\n",
    "### 예제 입력\n",
    "5\n",
    "\n",
    "-2 4 -99 1 98\n",
    "\n",
    "\n",
    "### 예제 출력\n",
    "-99 98\n",
    "\n",
    "\n",
    "##### 출처\n",
    "2010 한국정보올림피아드 전국본선 중등부 1번  "
   ]
  },
  {
   "cell_type": "code",
   "execution_count": 1,
   "id": "15bdf61c",
   "metadata": {},
   "outputs": [
    {
     "name": "stdout",
     "output_type": "stream",
     "text": [
      "5\n",
      "-2 4 -99 1 98\n",
      "-99 98\n"
     ]
    }
   ],
   "source": [
    "n = int(input())\n",
    "ls = list(map(int,input().split()))\n",
    "ls.sort()\n",
    "start = 0\n",
    "end = len(ls)-1\n",
    "flag = \"none\"\n",
    "result = ls[end] + ls[start]\n",
    "while start+1 == end:\n",
    "    ad = ls[end] + ls[start]\n",
    "    if abs(result) < abs(ad):\n",
    "        if flag == \"start\":\n",
    "            start-=1\n",
    "        elif flag == \"end\":\n",
    "            end+=1\n",
    "        else:\n",
    "            pass\n",
    "        break\n",
    "    if ad < 0:\n",
    "        flag = \"start\"\n",
    "        start+=1\n",
    "    elif ad == 0:\n",
    "        break\n",
    "    else:\n",
    "        flag = \"end\"\n",
    "        end -= 1\n",
    "    result = ad\n",
    "print(ls[start],ls[end])"
   ]
  },
  {
   "cell_type": "code",
   "execution_count": null,
   "id": "2cc0a1d4",
   "metadata": {},
   "outputs": [],
   "source": []
  }
 ],
 "metadata": {
  "kernelspec": {
   "display_name": "Python 3 (ipykernel)",
   "language": "python",
   "name": "python3"
  },
  "language_info": {
   "codemirror_mode": {
    "name": "ipython",
    "version": 3
   },
   "file_extension": ".py",
   "mimetype": "text/x-python",
   "name": "python",
   "nbconvert_exporter": "python",
   "pygments_lexer": "ipython3",
   "version": "3.8.9"
  }
 },
 "nbformat": 4,
 "nbformat_minor": 5
}
