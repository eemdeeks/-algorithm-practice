{
 "cells": [
  {
   "cell_type": "markdown",
   "metadata": {},
   "source": [
    "### 문제\n",
    "자연수n,m이 주어질 때, n부터m까지 존재하는 소수를 모두 출력하는 프로그램을 작성하여라. 여기서 소수란, 약수가 1과 자기자신밖에 존재하지 않는 수를 말한다.\n",
    "\n",
    "### 입력\n",
    "첫째 줄에 자연수 n, m이 주어진다. (1≤n,m≤20,000)\n",
    "\n",
    "\n",
    "### 출력\n",
    "첫째 줄에 n부터m까지 존재하는 소수를 모두 출력한다.\n",
    "\n",
    "### 예제 입력\n",
    "1. 1 10\n",
    "2. 13 30\n",
    "\n",
    "### 예제 출력\n",
    "1. 2 3 5 7\n",
    "2. 13 17 19 23 29"
   ]
  },
  {
   "cell_type": "code",
   "execution_count": 1,
   "metadata": {},
   "outputs": [
    {
     "name": "stdout",
     "output_type": "stream",
     "text": [
      "1 10\n",
      "2 3 5 7 "
     ]
    }
   ],
   "source": [
    "n,m = map(int,input().split())\n",
    "\n",
    "for i in range(n,m+1):\n",
    "  if i == 1:\n",
    "    continue\n",
    "  flag = 0\n",
    "  for j in range(2,i):\n",
    "    if i % j == 0:\n",
    "      flag = 1\n",
    "  if flag == 0:\n",
    "    print(i,end=' ')"
   ]
  },
  {
   "cell_type": "code",
   "execution_count": null,
   "metadata": {},
   "outputs": [],
   "source": []
  }
 ],
 "metadata": {
  "kernelspec": {
   "display_name": "Python 3",
   "language": "python",
   "name": "python3"
  },
  "language_info": {
   "codemirror_mode": {
    "name": "ipython",
    "version": 3
   },
   "file_extension": ".py",
   "mimetype": "text/x-python",
   "name": "python",
   "nbconvert_exporter": "python",
   "pygments_lexer": "ipython3",
   "version": "3.8.3"
  }
 },
 "nbformat": 4,
 "nbformat_minor": 4
}
