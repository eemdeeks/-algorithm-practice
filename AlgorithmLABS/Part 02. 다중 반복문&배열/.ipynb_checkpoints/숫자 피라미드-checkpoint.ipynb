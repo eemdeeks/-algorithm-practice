{
 "cells": [
  {
   "attachments": {
    "image.png": {
     "image/png": "[encoded data removed]"
    }
   },
   "cell_type": "markdown",
   "metadata": {},
   "source": [
    "### 문제\n",
    "N과 시작 숫자 S가 주어지면 숫자 피라미드를 만드는 프로그램을 작성하시오.\n",
    "예를 들어, N이 5이고 S가 3 이라면, 그 숫자 피라미드는 다음과 같다.\n",
    "\n",
    "![image.png](attachment:image.png)\n",
    "\n",
    "- 시작 숫자 S는 꼭대기부터 1씩 증가한다.\n",
    "- 시작 행의 번호가 1번이라고 했을때, 짝수번째 행은 왼쪽에서 오른쪽으로 1씩 증가하도록 적고, 홀수번째 행은 거꾸로 적는다.\n",
    "- 숫자가 만약 10이 될 경우, 1로 바꾸고 다시 증가한다.  \n",
    "\n",
    "### 입력\n",
    "입력의 첫 번째 줄에 N과 시작 숫자 S가 주어진다. ( 1≤N≤100, 1 ≤S≤ 9)\n",
    "\n",
    "\n",
    "### 출력\n",
    "첫 번째 줄부터 숫자 피라미드를 출력한다. (각 줄에 존재하는 공백의 개수와 숫자의 개수를 정확하게 확인해주시바랍니다.)\n",
    "\n",
    "### 예제 입력\n",
    "5 3\n",
    "\n",
    "### 예제 출력\n",
    "![image.png](attachment:image.png)"
   ]
  },
  {
   "cell_type": "code",
   "execution_count": 1,
   "metadata": {},
   "outputs": [
    {
     "name": "stdout",
     "output_type": "stream",
     "text": [
      "5 3\n",
      "    3\n",
      "   456\n",
      "  21987\n",
      " 3456789\n",
      "987654321\n"
     ]
    }
   ],
   "source": [
    "a,b = map(int,input().split())\n",
    "\n",
    "for i in range(1,a+1):\n",
    "  ls = []\n",
    "  for j in range(a-i):\n",
    "    print(\" \",end='')\n",
    "  for j in range(i*2-1):\n",
    "    ls.append(b)\n",
    "    b+=1\n",
    "    if b == 10:\n",
    "      b = 1\n",
    "  if i % 2 == 1:\n",
    "    ls.reverse()\n",
    "  for j in ls:\n",
    "    print(j,end='')\n",
    "  print()\n",
    "    "
   ]
  },
  {
   "cell_type": "code",
   "execution_count": null,
   "metadata": {},
   "outputs": [],
   "source": []
  }
 ],
 "metadata": {
  "kernelspec": {
   "display_name": "Python 3",
   "language": "python",
   "name": "python3"
  },
  "language_info": {
   "codemirror_mode": {
    "name": "ipython",
    "version": 3
   },
   "file_extension": ".py",
   "mimetype": "text/x-python",
   "name": "python",
   "nbconvert_exporter": "python",
   "pygments_lexer": "ipython3",
   "version": "3.8.3"
  }
 },
 "nbformat": 4,
 "nbformat_minor": 4
}
