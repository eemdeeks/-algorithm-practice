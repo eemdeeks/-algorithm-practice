{
 "cells": [
  {
   "cell_type": "markdown",
   "metadata": {},
   "source": [
    "### 문제\n",
    "N이 주어질 때, 다음과 같은 프로그램을 작성해보자.  \n",
    "\n",
    "\n",
    "### 입력\n",
    "첫째 줄에 자연수 N이 주어진다.(1<=N<=100)\n",
    "\n",
    "### 출력\n",
    "예시를 참고하여 작성하자.\n",
    "\n",
    "\n",
    "### 예제 입력\n",
    "- 3\n",
    "- 5\n",
    "\n",
    "### 예제 출력\n",
    "- 1 2 4  \n",
    "  3 5  \n",
    "  6  \n",
    "  \n",
    "- 1 2 4 7 11  \n",
    "  3 5 8 12  \n",
    "  6 9 13  \n",
    "  10 14  \n",
    "  15  "
   ]
  },
  {
   "cell_type": "code",
   "execution_count": 1,
   "metadata": {},
   "outputs": [
    {
     "name": "stdout",
     "output_type": "stream",
     "text": [
      "5\n",
      "1 2 4 7 11 \n",
      "3 5 8 12 \n",
      "6 9 13 \n",
      "10 14 \n",
      "15 \n"
     ]
    }
   ],
   "source": [
    "n = int(input())\n",
    "b = 0\n",
    "c = 0\n",
    "for i in range(1,n+1):\n",
    "  a = c + i\n",
    "  c = a\n",
    "  b = i\n",
    "  for j in range(1,n-i+2):\n",
    "    print(a, end=' ')\n",
    "    a += b\n",
    "    b += 1\n",
    "  print()"
   ]
  },
  {
   "cell_type": "code",
   "execution_count": null,
   "metadata": {},
   "outputs": [],
   "source": []
  }
 ],
 "metadata": {
  "kernelspec": {
   "display_name": "Python 3",
   "language": "python",
   "name": "python3"
  },
  "language_info": {
   "codemirror_mode": {
    "name": "ipython",
    "version": 3
   },
   "file_extension": ".py",
   "mimetype": "text/x-python",
   "name": "python",
   "nbconvert_exporter": "python",
   "pygments_lexer": "ipython3",
   "version": "3.8.3"
  }
 },
 "nbformat": 4,
 "nbformat_minor": 4
}
