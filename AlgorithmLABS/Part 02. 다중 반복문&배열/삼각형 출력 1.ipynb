{
 "cells": [
  {
   "cell_type": "markdown",
   "metadata": {},
   "source": [
    "### 문제\n",
    "n층의 삼각형을 출력하는 프로그램을 작성하여라. Input, Output의 예제를 참고한다.\n",
    "\n",
    "### 입력\n",
    "첫째 줄에 정수n이 주어진다. (0≤n≤100)\n",
    "\n",
    "### 출력\n",
    "다음 예제와 같이 삼각형 모양으로 '*'을 출력한다.\n",
    "\n",
    "### 예제 입력\n",
    "1. 3\n",
    "2. 5\n",
    "\n",
    "### 예제 출력\n",
    "    1. *\n",
    "       **\n",
    "       ***\n",
    "       \n",
    "    2. *\n",
    "       **\n",
    "       ***\n",
    "       ****\n",
    "       *****"
   ]
  },
  {
   "cell_type": "code",
   "execution_count": 1,
   "metadata": {},
   "outputs": [
    {
     "name": "stdout",
     "output_type": "stream",
     "text": [
      "3\n",
      "*\n",
      "**\n",
      "***\n"
     ]
    }
   ],
   "source": [
    "n = int(input())\n",
    "for i in range(1,n+1):\n",
    "  for j in range(i):\n",
    "    print(\"*\",end='')\n",
    "  print()  "
   ]
  },
  {
   "cell_type": "code",
   "execution_count": null,
   "metadata": {},
   "outputs": [],
   "source": []
  }
 ],
 "metadata": {
  "kernelspec": {
   "display_name": "Python 3",
   "language": "python",
   "name": "python3"
  },
  "language_info": {
   "codemirror_mode": {
    "name": "ipython",
    "version": 3
   },
   "file_extension": ".py",
   "mimetype": "text/x-python",
   "name": "python",
   "nbconvert_exporter": "python",
   "pygments_lexer": "ipython3",
   "version": "3.8.3"
  }
 },
 "nbformat": 4,
 "nbformat_minor": 4
}
