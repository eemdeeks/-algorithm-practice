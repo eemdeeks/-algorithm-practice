{
 "cells": [
  {
   "cell_type": "markdown",
   "metadata": {},
   "source": [
    "현석\n",
    "최적 해 구하기\n",
    "부분 최적해 구했을 때 변함이 없어야 함\n",
    "\n",
    "예시\n",
    "\n",
    "coin change problem\n",
    "-> 동전이 자기보다 낮은 단위의 배수가 되어야함\n",
    "\n",
    "활동 선택 문제\n"
   ]
  }
 ],
 "metadata": {
  "kernelspec": {
   "display_name": "Python 3",
   "language": "python",
   "name": "python3"
  },
  "language_info": {
   "codemirror_mode": {
    "name": "ipython",
    "version": 3
   },
   "file_extension": ".py",
   "mimetype": "text/x-python",
   "name": "python",
   "nbconvert_exporter": "python",
   "pygments_lexer": "ipython3",
   "version": "3.8.3"
  }
 },
 "nbformat": 4,
 "nbformat_minor": 4
}
