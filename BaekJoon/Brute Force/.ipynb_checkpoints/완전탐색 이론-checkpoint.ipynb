{
 "cells": [
  {
   "cell_type": "markdown",
   "metadata": {},
   "source": [
    "# 완전 탐색\n",
    "모든 경우의 수를 시도해 보는 방법 (Exhaustive search, Brute force)\n",
    "\n",
    "상대적으로 구현이 간단하고, 해가 존재한다면 항상 찾게 된다.\n",
    "경우의 수에 따라 실행 시간이 비례하기 때문에 입력 값의 범위가 작은 경우에 유용하다.\n",
    "\n"
   ]
  },
  {
   "cell_type": "code",
   "execution_count": 2,
   "metadata": {},
   "outputs": [],
   "source": [
    "# 순차 탐색(sequential search)\n",
    "def sequentialSearch(arr,n,x):\n",
    "    \n",
    "    for i in range(n):\n",
    "        if arr[i] == x:\n",
    "            return 1\n",
    "        \n",
    "    return -1"
   ]
  },
  {
   "cell_type": "markdown",
   "metadata": {},
   "source": [
    "### 순차 탐색\n",
    "- 배열이 정렬 되어있다면 이진 탐색이 더 효율적이다.\n",
    "\n",
    "### 경우의 수\n",
    "- 순열(Permutaition) : 선택 순서가 결과에 영향을 미치는 경우\n",
    "- 조합(Combination) : 선택 순서가 결과에 영향을 주지 않는 경우\n",
    "\n",
    "\n",
    "예제\n",
    "- {1,2,3,4} 숫자가 주어진 경우\n",
    "- 만들 수 있는 가장 큰 두자리 수를 구하라. -> 순열\n",
    "- 두 수를 더했을 때 가장 큰 합을 구하라. -> 조합"
   ]
  },
  {
   "cell_type": "code",
   "execution_count": 6,
   "metadata": {},
   "outputs": [
    {
     "name": "stdout",
     "output_type": "stream",
     "text": [
      "43\n"
     ]
    }
   ],
   "source": [
    "#순열 예제 - 가장 큰 두 자리 수 구하기.\n",
    "N = 4\n",
    "Nums = [1,2,3,4]\n",
    "def solve(cnt, used,val):\n",
    "    if cnt == 2: return val\n",
    "    \n",
    "    ret = 0\n",
    "    for i in range(N):\n",
    "        if used&1<<i:continue\n",
    "        ret = max(ret,solve(cnt+1, used | 1 << i, val * 10 +Nums[i]))\n",
    "    return ret\n",
    "\n",
    "if __name__=='__main__':\n",
    "    print(solve(0,0,0))"
   ]
  },
  {
   "cell_type": "code",
   "execution_count": 7,
   "metadata": {},
   "outputs": [],
   "source": [
    "#조합 예제 - 가장 큰 두수의 합 구하기\n",
    "N = 4\n",
    "Nums = [1,2,3,4]\n",
    "\n",
    "def solve(pos,cnt,val):\n",
    "    if cnt == 2:return val\n",
    "    \n",
    "    ret = 0\n",
    "    ret = max(ret,solve(pos+1,cnt+1,val+Nums[pos]))\n",
    "    ret = max(ret, solve(pos + 1, cnt, val))\n",
    "    \n",
    "    return ret\n",
    "\n",
    "## if __name__ == '__main__':\n",
    "##    print(solve(0,0,0))"
   ]
  },
  {
   "cell_type": "code",
   "execution_count": null,
   "metadata": {},
   "outputs": [],
   "source": []
  }
 ],
 "metadata": {
  "kernelspec": {
   "display_name": "Python 3",
   "language": "python",
   "name": "python3"
  },
  "language_info": {
   "codemirror_mode": {
    "name": "ipython",
    "version": 3
   },
   "file_extension": ".py",
   "mimetype": "text/x-python",
   "name": "python",
   "nbconvert_exporter": "python",
   "pygments_lexer": "ipython3",
   "version": "3.8.3"
  }
 },
 "nbformat": 4,
 "nbformat_minor": 4
}
