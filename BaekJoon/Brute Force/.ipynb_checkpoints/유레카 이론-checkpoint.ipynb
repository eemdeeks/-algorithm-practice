{
 "cells": [
  {
   "cell_type": "markdown",
   "metadata": {},
   "source": [
    "## 문제\n",
    "\n",
    "삼각수 Tn(n ≥ 1)는 기하학적으로 일정한 모양의 규칙을 갖는 점들의 모음으로 표현될 수 있다.\n",
    "\n",
    "자연수 n에 대해 n ≥ 1의 삼각수 T(n)는 명백한 공식이 있다.\n",
    "\n",
    "- T(n) = 1 + 2 + 3 + ... + n = n(n+1)/2\n",
    "\n",
    "1796년, 가우스는 모든 자연수가 최대 3개의 삼각수의 합으로 표현될 수 있다고 증명하였다. 예를 들어,\n",
    "\n",
    "- 4 = T1 + T2\n",
    "- 5 = T1 + T1 + T2\n",
    "- 6 = T2 + T2 or 6 = T3\n",
    "- 10 = T1 + T2 + T3 or 10 = T4\n",
    "이 결과는 증명을 기념하기 위해 그의 다이어리에 “Eureka! num = Δ + Δ + Δ” 라고 적은것에서 유레카 이론으로 알려졌다. 꿍은 몇몇 자연수가 정확히 3개의 삼각수의 합으로 표현될 수 있는지 궁금해졌다. 위의 예시에서, 5와 10은 정확히 3개의 삼각수의 합으로 표현될 수 있지만 4와 6은 그렇지 않다.\n",
    "\n",
    "자연수가 주어졌을 때, 그 정수가 정확히 3개의 삼각수의 합으로 표현될 수 있는지 없는지를 판단해주는 프로그램을 만들어라. 단, 3개의 삼각수가 모두 달라야 할 필요는 없다.\n",
    "\n",
    "### 입력\n",
    "프로그램은 표준입력을 사용한다. 테스트케이스의 개수는 입력의 첫 번째 줄에 주어진다. 각 테스트케이스는 한 줄에 자연수 K (3 ≤ K ≤ 1,000)가 하나씩 포함되어있는 T개의 라인으로 구성되어있다.\n",
    "\n",
    "### 출력\n",
    "프로그램은 표준출력을 사용한다. 각 테스트케이스에대해 정확히 한 라인을 출력한다. 만약 K가 정확히 3개의 삼각수의 합으로 표현될수 있다면 1을, 그렇지 않다면 0을 출력한다.\n",
    "\n",
    "### 예제 입력 1 \n",
    "- 3\n",
    "- 10\n",
    "- 20\n",
    "- 1000\n",
    "\n",
    "### 예제 출력 1 \n",
    "- 1\n",
    "- 0\n",
    "- 1"
   ]
  },
  {
   "cell_type": "code",
   "execution_count": 29,
   "metadata": {},
   "outputs": [
    {
     "name": "stdout",
     "output_type": "stream",
     "text": [
      "3\n",
      "10\n",
      "1\n",
      "20\n",
      "0\n",
      "1000\n",
      "1\n"
     ]
    }
   ],
   "source": [
    "list = []\n",
    "\n",
    "for n in range(1,45):\n",
    "    for i in range(1,45):\n",
    "        for j in range(1,45):\n",
    "            a = n*(n+1)/2\n",
    "            b = i*(i+1)/2\n",
    "            c = j*(j+1)/2\n",
    "            list.append(a+b+c)\n",
    "for i in range(int(input())):\n",
    "    if list.count(int(input()))>0:\n",
    "        print(1)\n",
    "    else : print(0)"
   ]
  },
  {
   "cell_type": "code",
   "execution_count": null,
   "metadata": {},
   "outputs": [],
   "source": []
  }
 ],
 "metadata": {
  "kernelspec": {
   "display_name": "Python 3",
   "language": "python",
   "name": "python3"
  },
  "language_info": {
   "codemirror_mode": {
    "name": "ipython",
    "version": 3
   },
   "file_extension": ".py",
   "mimetype": "text/x-python",
   "name": "python",
   "nbconvert_exporter": "python",
   "pygments_lexer": "ipython3",
   "version": "3.8.3"
  }
 },
 "nbformat": 4,
 "nbformat_minor": 4
}
