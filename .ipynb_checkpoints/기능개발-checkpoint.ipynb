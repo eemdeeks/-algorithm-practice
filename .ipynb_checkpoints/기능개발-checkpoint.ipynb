{
 "cells": [
  {
   "cell_type": "code",
   "execution_count": 1,
   "metadata": {},
   "outputs": [
    {
     "data": {
      "text/plain": [
       "[1, 3, 2]"
      ]
     },
     "execution_count": 1,
     "metadata": {},
     "output_type": "execute_result"
    }
   ],
   "source": [
    "def solution(progresses, speeds):\n",
    "\n",
    "    day = []\n",
    "    answer = []\n",
    "    for pro, sp in zip(progresses,speeds) :\n",
    "        speed = (100 - pro) //sp\n",
    "        if (100 - pro) % sp != 0 :\n",
    "            speed = speed +1\n",
    "        day.append(speed)\n",
    "    \n",
    "    count = 0\n",
    "    a = 0\n",
    "    for i in day :\n",
    "        if i <= day[a] :\n",
    "            count +=1\n",
    "        else :\n",
    "            answer.append(count)\n",
    "            a = a + count\n",
    "            count = 1\n",
    "            \n",
    "            \n",
    "    answer.append(count)\n",
    "    return answer\n",
    "\n",
    "progresses = [95, 90, 99, 99, 80, 99]\n",
    "speeds = [1, 1, 1, 1, 1, 1]\n",
    "\n",
    "solution(progresses,speeds)"
   ]
  },
  {
   "cell_type": "code",
   "execution_count": null,
   "metadata": {},
   "outputs": [],
   "source": []
  }
 ],
 "metadata": {
  "kernelspec": {
   "display_name": "Python 3",
   "language": "python",
   "name": "python3"
  },
  "language_info": {
   "codemirror_mode": {
    "name": "ipython",
    "version": 3
   },
   "file_extension": ".py",
   "mimetype": "text/x-python",
   "name": "python",
   "nbconvert_exporter": "python",
   "pygments_lexer": "ipython3",
   "version": "3.8.3"
  }
 },
 "nbformat": 4,
 "nbformat_minor": 4
}
