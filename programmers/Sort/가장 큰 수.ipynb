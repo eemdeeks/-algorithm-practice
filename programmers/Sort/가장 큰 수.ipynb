{
 "cells": [
  {
   "cell_type": "markdown",
   "metadata": {},
   "source": []
  },
  {
   "cell_type": "code",
   "execution_count": 22,
   "metadata": {},
   "outputs": [
    {
     "data": {
      "text/plain": [
       "'9533430'"
      ]
     },
     "execution_count": 22,
     "metadata": {},
     "output_type": "execute_result"
    }
   ],
   "source": [
    "def solution(numbers):\n",
    "    answer = ''\n",
    "    numbers.sort()\n",
    "    one = []\n",
    "    ten = []\n",
    "    hundred = []\n",
    "    thousand = []\n",
    "    i= 10\n",
    "    for i in numbers:\n",
    "        if i > 999:\n",
    "            thousand.append(i)\n",
    "        elif i > 99:\n",
    "            hundred.append(i)\n",
    "        elif i > 9:\n",
    "            ten.append(i)\n",
    "        else:\n",
    "            one.append(i)\n",
    "            \n",
    "    one.sort(reverse=True)\n",
    "    ten.sort(reverse=True)\n",
    "    hundred.sort(reverse=True)\n",
    "        \n",
    "    while i >= 0 :\n",
    "        i-=1\n",
    "        for num in one:\n",
    "            if num == i:\n",
    "                answer += str(num)\n",
    "        for num in ten:\n",
    "            if num//10 == i:\n",
    "                answer += str(num)\n",
    "        for num in hundred:\n",
    "            if num//100 == i:\n",
    "                answer += str(num)\n",
    "        for num in thousand:\n",
    "            if num//1000 == i:\n",
    "                answer += str(num)\n",
    "            \n",
    "        \n",
    "    \n",
    "    return answer\n",
    "\n",
    "numbers = \t[3, 30, 34, 5, 9]\n",
    "solution(numbers)"
   ]
  },
  {
   "cell_type": "markdown",
   "metadata": {},
   "source": [
    "아이디어\n",
    "- 모든 가능한 수를 list에 넣은 다음 max\n",
    "- 또는\n",
    "- 앞자리가 가장 큰 거부터 정렬"
   ]
  },
  {
   "cell_type": "code",
   "execution_count": null,
   "metadata": {},
   "outputs": [],
   "source": []
  }
 ],
 "metadata": {
  "kernelspec": {
   "display_name": "Python 3",
   "language": "python",
   "name": "python3"
  },
  "language_info": {
   "codemirror_mode": {
    "name": "ipython",
    "version": 3
   },
   "file_extension": ".py",
   "mimetype": "text/x-python",
   "name": "python",
   "nbconvert_exporter": "python",
   "pygments_lexer": "ipython3",
   "version": "3.8.3"
  }
 },
 "nbformat": 4,
 "nbformat_minor": 4
}
