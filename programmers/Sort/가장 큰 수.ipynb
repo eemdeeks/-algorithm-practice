{
 "cells": [
  {
   "cell_type": "markdown",
   "metadata": {},
   "source": [
    "## 문제 설명\n",
    "0 또는 양의 정수가 주어졌을 때, 정수를 이어 붙여 만들 수 있는 가장 큰 수를 알아내 주세요.\n",
    "\n",
    "예를 들어, 주어진 정수가 [6, 10, 2]라면 [6102, 6210, 1062, 1026, 2610, 2106]를 만들 수 있고, 이중 가장 큰 수는 6210입니다.\n",
    "\n",
    "0 또는 양의 정수가 담긴 배열 numbers가 매개변수로 주어질 때, 순서를 재배치하여 만들 수 있는 가장 큰 수를 문자열로 바꾸어 return 하도록 solution 함수를 작성해주세요.\n",
    "\n",
    "## 제한 사항\n",
    "- numbers의 길이는 1 이상 100,000 이하입니다.\n",
    "- numbers의 원소는 0 이상 1,000 이하입니다.\n",
    "- 정답이 너무 클 수 있으니 문자열로 바꾸어 return 합니다.\n",
    "\n",
    "## 입출력 예\n",
    "numbers\treturn\n",
    "- [6, 10, 2]\t\"6210\"\n",
    "- [3, 30, 34, 5, 9]\t\"9534330\""
   ]
  },
  {
   "cell_type": "code",
   "execution_count": 23,
   "metadata": {},
   "outputs": [
    {
     "data": {
      "text/plain": [
       "'9533430'"
      ]
     },
     "execution_count": 23,
     "metadata": {},
     "output_type": "execute_result"
    }
   ],
   "source": [
    "## 예외 발생한 코드\n",
    "\n",
    "def solution(numbers):\n",
    "    answer = ''\n",
    "    numbers.sort()\n",
    "    one = []\n",
    "    ten = []\n",
    "    hundred = []\n",
    "    thousand = []\n",
    "    i= 10\n",
    "    for i in numbers:\n",
    "        if i > 999:\n",
    "            thousand.append(i)\n",
    "        elif i > 99:\n",
    "            hundred.append(i)\n",
    "        elif i > 9:\n",
    "            ten.append(i)\n",
    "        else:\n",
    "            one.append(i)\n",
    "            \n",
    "    one.sort(reverse=True)\n",
    "    ten.sort(reverse=True)\n",
    "    hundred.sort(reverse=True)\n",
    "        \n",
    "    while i >= 0 :\n",
    "        i-=1\n",
    "        for num in one:\n",
    "            if num == i:\n",
    "                answer += str(num)\n",
    "        for num in ten:\n",
    "            if num//10 == i:\n",
    "                answer += str(num)\n",
    "        for num in hundred:\n",
    "            if num//100 == i:\n",
    "                answer += str(num)\n",
    "        for num in thousand:\n",
    "            if num//1000 == i:\n",
    "                answer += str(num)\n",
    "            \n",
    "        \n",
    "    \n",
    "    return answer\n",
    "\n",
    "numbers = \t[3, 30, 34, 5, 9]\n",
    "solution(numbers)"
   ]
  },
  {
   "cell_type": "markdown",
   "metadata": {},
   "source": [
    "아이디어\n",
    "- 모든 가능한 수를 list에 넣은 다음 max\n",
    "- 또는\n",
    "- 앞자리가 가장 큰 거부터 정렬 -> 해본결과 ->  예외 발생\n",
    "\n",
    "- 한개씩 더해가면서 \n",
    "\n",
    "모르겠어서 답 구글링\n",
    "- *3 해준다음 ASCII로 비교"
   ]
  },
  {
   "cell_type": "code",
   "execution_count": 5,
   "metadata": {},
   "outputs": [
    {
     "data": {
      "text/plain": [
       "[3, 30, 34, 5, 9, 1]"
      ]
     },
     "execution_count": 5,
     "metadata": {},
     "output_type": "execute_result"
    }
   ],
   "source": [
    "def solution(numbers):\n",
    "    answer = ''\n",
    "    list = []\n",
    "    \n",
    "    \n",
    "    return answer\n",
    "\n",
    "numbers = [3, 30, 34, 5, 9]\n",
    "a = [1]\n",
    "solution(numbers)\n",
    "numbers + a"
   ]
  },
  {
   "cell_type": "code",
   "execution_count": null,
   "metadata": {},
   "outputs": [],
   "source": []
  }
 ],
 "metadata": {
  "kernelspec": {
   "display_name": "Python 3",
   "language": "python",
   "name": "python3"
  },
  "language_info": {
   "codemirror_mode": {
    "name": "ipython",
    "version": 3
   },
   "file_extension": ".py",
   "mimetype": "text/x-python",
   "name": "python",
   "nbconvert_exporter": "python",
   "pygments_lexer": "ipython3",
   "version": "3.8.3"
  }
 },
 "nbformat": 4,
 "nbformat_minor": 4
}
