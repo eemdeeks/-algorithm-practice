{
 "cells": [
  {
   "cell_type": "code",
   "execution_count": 1,
   "id": "f278b6a2",
   "metadata": {},
   "outputs": [
    {
     "data": {
      "text/plain": [
       "5"
      ]
     },
     "execution_count": 1,
     "metadata": {},
     "output_type": "execute_result"
    }
   ],
   "source": [
    "def solution(n, lost, reserve):\n",
    "    lost.sort()\n",
    "    l = len(lost)\n",
    "    ls = []\n",
    "    for i in lost:\n",
    "        if reserve.count(i)==1:\n",
    "            reserve.remove(i)\n",
    "            ls.append(i)\n",
    "            l -= 1\n",
    "    for i in ls:\n",
    "        lost.remove(i)\n",
    "    for i in lost:\n",
    "        if reserve.count(i-1)==1:\n",
    "            reserve.remove(i-1)\n",
    "            l -= 1\n",
    "        elif reserve.count(i+1)==1:\n",
    "            reserve.remove(i+1)\n",
    "            l -= 1\n",
    "    answer = n - l\n",
    "    return answer\n",
    "\n",
    "n = 5\n",
    "lost = [2,4]\n",
    "reserve = [1,3,5]\n",
    "\n",
    "solution(n,lost,reserve)"
   ]
  },
  {
   "cell_type": "code",
   "execution_count": null,
   "id": "6607a57a",
   "metadata": {},
   "outputs": [],
   "source": []
  }
 ],
 "metadata": {
  "kernelspec": {
   "display_name": "Python 3",
   "language": "python",
   "name": "python3"
  },
  "language_info": {
   "codemirror_mode": {
    "name": "ipython",
    "version": 3
   },
   "file_extension": ".py",
   "mimetype": "text/x-python",
   "name": "python",
   "nbconvert_exporter": "python",
   "pygments_lexer": "ipython3",
   "version": "3.8.8"
  }
 },
 "nbformat": 4,
 "nbformat_minor": 5
}
