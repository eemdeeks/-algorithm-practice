{
 "cells": [
  {
   "cell_type": "code",
   "execution_count": 1,
   "id": "57e67fb0",
   "metadata": {},
   "outputs": [
    {
     "name": "stdout",
     "output_type": "stream",
     "text": [
      "8\n"
     ]
    }
   ],
   "source": [
    "def solution(bridge_length, weight, truck_weights):\n",
    "    answer = 0\n",
    "    time = []\n",
    "    bridge = []\n",
    "    \n",
    "    while True :\n",
    "        if len(truck_weights) == 0:\n",
    "            break\n",
    "        answer += 1\n",
    "        time = list(map(lambda x:x-1,time))\n",
    "\n",
    "        if len(time) != 0 :\n",
    "            if time[0]== 0:\n",
    "                time.pop(0)\n",
    "                bridge.pop(0)\n",
    "            \n",
    "        if (sum(bridge) + truck_weights[0])<= weight:\n",
    "            bridge.append(truck_weights.pop(0))\n",
    "            time.append(bridge_length)\n",
    "        \n",
    "    answer += bridge_length    \n",
    "\n",
    "    return answer\n",
    "\n",
    "\n",
    "bridge_length = 2\n",
    "weight = 10\n",
    "truck_weights = [7,4,5,6]\n",
    "\n",
    "print(solution(bridge_length,weight,truck_weights))"
   ]
  },
  {
   "cell_type": "code",
   "execution_count": null,
   "id": "3fcce719",
   "metadata": {},
   "outputs": [],
   "source": []
  }
 ],
 "metadata": {
  "kernelspec": {
   "display_name": "Python 3 (ipykernel)",
   "language": "python",
   "name": "python3"
  },
  "language_info": {
   "codemirror_mode": {
    "name": "ipython",
    "version": 3
   },
   "file_extension": ".py",
   "mimetype": "text/x-python",
   "name": "python",
   "nbconvert_exporter": "python",
   "pygments_lexer": "ipython3",
   "version": "3.8.9"
  }
 },
 "nbformat": 4,
 "nbformat_minor": 5
}
